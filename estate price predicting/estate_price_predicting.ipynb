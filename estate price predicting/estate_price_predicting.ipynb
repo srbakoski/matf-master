{
 "cells": [
  {
   "cell_type": "code",
   "execution_count": 1,
   "id": "fa17ff51",
   "metadata": {},
   "outputs": [],
   "source": [
    "import matplotlib.pyplot as plt\n",
    "import numpy as np\n",
    "import pandas as pd\n",
    "import tensorflow as tf\n",
    "import gpflow\n",
    "import gpflux\n",
    "import sklearn\n",
    "from sklearn import model_selection\n",
    "from sklearn import preprocessing\n",
    "from sklearn import metrics\n",
    "from sklearn import svm"
   ]
  },
  {
   "cell_type": "code",
   "execution_count": 2,
   "id": "6c6379f6",
   "metadata": {},
   "outputs": [],
   "source": [
    "import warnings\n",
    "warnings.filterwarnings('ignore')"
   ]
  },
  {
   "cell_type": "code",
   "execution_count": 3,
   "id": "78dd4ad0",
   "metadata": {},
   "outputs": [],
   "source": [
    "df = pd.read_csv(\"Real estate.csv\")\n",
    "tf.keras.backend.set_floatx(\"float64\")"
   ]
  },
  {
   "cell_type": "code",
   "execution_count": 4,
   "id": "34b1f6cd",
   "metadata": {},
   "outputs": [],
   "source": [
    "X = np.array(df.drop(['No','Y house price of unit area'], axis=1))\n",
    "Y = np.array(df['Y house price of unit area'])"
   ]
  },
  {
   "cell_type": "code",
   "execution_count": 5,
   "id": "ce2572a0",
   "metadata": {},
   "outputs": [],
   "source": [
    "X = np.reshape(X,(-1,6))\n",
    "Y = np.reshape(Y, (-1,1))"
   ]
  },
  {
   "cell_type": "code",
   "execution_count": 6,
   "id": "b9fc6ca2",
   "metadata": {},
   "outputs": [],
   "source": [
    "X_train = X[0:290]\n",
    "X_val = X[290:352]\n",
    "X_test = X[352:414]"
   ]
  },
  {
   "cell_type": "code",
   "execution_count": 7,
   "id": "a9a245f1",
   "metadata": {},
   "outputs": [],
   "source": [
    "Y_train = Y[0:290]\n",
    "Y_val = Y[290:352]\n",
    "Y_test = Y[352:414]"
   ]
  },
  {
   "cell_type": "code",
   "execution_count": 8,
   "id": "39700d94",
   "metadata": {},
   "outputs": [],
   "source": [
    "scaler = preprocessing.StandardScaler()\n",
    "scaler.fit(X_train)\n",
    "X_train = scaler.transform(X_train)\n",
    "X_val = scaler.transform(X_val)\n",
    "X_test = scaler.transform(X_test)"
   ]
  },
  {
   "cell_type": "code",
   "execution_count": 9,
   "id": "ac563ea3",
   "metadata": {},
   "outputs": [],
   "source": [
    "n = len(Y_train)"
   ]
  },
  {
   "cell_type": "code",
   "execution_count": 10,
   "id": "b26d78b5",
   "metadata": {},
   "outputs": [],
   "source": [
    "kernels = [gpflow.kernels.Cosine(), gpflow.kernels.Matern12(), gpflow.kernels.Matern32(), gpflow.kernels.Matern52(),\n",
    "           gpflow.kernels.RBF(), gpflow.kernels.RationalQuadratic(), \n",
    "           gpflow.kernels.Periodic(base_kernel=gpflow.kernels.RBF())]"
   ]
  },
  {
   "cell_type": "code",
   "execution_count": 215,
   "id": "15bd1dd1",
   "metadata": {},
   "outputs": [],
   "source": [
    "best_mse1 = 100000\n",
    "best_model1 = None\n",
    "mae1 = None\n",
    "best_kernel = None"
   ]
  },
  {
   "cell_type": "code",
   "execution_count": 216,
   "id": "de973ec0",
   "metadata": {},
   "outputs": [],
   "source": [
    "for k in kernels:\n",
    "    for i in range(0,2):\n",
    "        \n",
    "        kernel1 = k\n",
    "        inducing_points1 = gpflow.inducing_variables.InducingPoints(np.random.random((64, 6)))\n",
    "        layer1 = gpflux.layers.GPLayer(kernel1,inducing_points1,num_data=n,num_latent_gps=1,\n",
    "                                  mean_function=gpflow.mean_functions.Zero())\n",
    "        likelihood = gpflux.layers.LikelihoodLayer(gpflow.likelihoods.Gaussian())\n",
    "        gp = gpflux.models.DeepGP([layer1],likelihood)\n",
    "        model = gp.as_training_model()\n",
    "        model.compile(tf.optimizers.Adam(0.01))\n",
    "        model.fit({\"inputs\":X_train,\"targets\":Y_train},epochs=50,verbose=0)\n",
    "        model = gp.as_prediction_model()\n",
    "        out_val = model(X_val)\n",
    "        pred_val = out_val.f_mean.numpy().squeeze()\n",
    "        mse_val = metrics.mean_squared_error(Y_val,pred_val)\n",
    "        mae_val = metrics.mean_absolute_error(Y_val,pred_val)\n",
    "        if(mse_val < best_mse1):\n",
    "            best_mse1 = mse_val\n",
    "            best_model1 =model\n",
    "            mae1 = mae_val\n",
    "            best_kernel = k"
   ]
  },
  {
   "cell_type": "code",
   "execution_count": 217,
   "id": "9ccac948",
   "metadata": {},
   "outputs": [
    {
     "data": {
      "text/html": [
       "&lt;gpflow.kernels.stationaries.RationalQuadratic object at 0x000001C9D1860B50&gt;\n",
       "<table>\n",
       "<thead>\n",
       "<tr><th>name                          </th><th>class    </th><th>transform  </th><th>prior  </th><th>trainable  </th><th>shape  </th><th>dtype  </th><th style=\"text-align: right;\">    value</th></tr>\n",
       "</thead>\n",
       "<tbody>\n",
       "<tr><td>RationalQuadratic.variance    </td><td>Parameter</td><td>Softplus   </td><td>       </td><td>True       </td><td>()     </td><td>float64</td><td style=\"text-align: right;\">22.0731  </td></tr>\n",
       "<tr><td>RationalQuadratic.lengthscales</td><td>Parameter</td><td>Softplus   </td><td>       </td><td>True       </td><td>()     </td><td>float64</td><td style=\"text-align: right;\"> 2.65859 </td></tr>\n",
       "<tr><td>RationalQuadratic.alpha       </td><td>Parameter</td><td>Softplus   </td><td>       </td><td>True       </td><td>()     </td><td>float64</td><td style=\"text-align: right;\"> 0.758721</td></tr>\n",
       "</tbody>\n",
       "</table>"
      ],
      "text/plain": [
       "<gpflow.kernels.stationaries.RationalQuadratic object at 0x000001C9D1860B50>\n",
       "╒════════════════════════════════╤═══════════╤═════════════╤═════════╤═════════════╤═════════╤═════════╤═══════════╕\n",
       "│ name                           │ class     │ transform   │ prior   │ trainable   │ shape   │ dtype   │     value │\n",
       "╞════════════════════════════════╪═══════════╪═════════════╪═════════╪═════════════╪═════════╪═════════╪═══════════╡\n",
       "│ RationalQuadratic.variance     │ Parameter │ Softplus    │         │ True        │ ()      │ float64 │ 22.0731   │\n",
       "├────────────────────────────────┼───────────┼─────────────┼─────────┼─────────────┼─────────┼─────────┼───────────┤\n",
       "│ RationalQuadratic.lengthscales │ Parameter │ Softplus    │         │ True        │ ()      │ float64 │  2.65859  │\n",
       "├────────────────────────────────┼───────────┼─────────────┼─────────┼─────────────┼─────────┼─────────┼───────────┤\n",
       "│ RationalQuadratic.alpha        │ Parameter │ Softplus    │         │ True        │ ()      │ float64 │  0.758721 │\n",
       "╘════════════════════════════════╧═══════════╧═════════════╧═════════╧═════════════╧═════════╧═════════╧═══════════╛"
      ]
     },
     "execution_count": 217,
     "metadata": {},
     "output_type": "execute_result"
    }
   ],
   "source": [
    "best_kernel"
   ]
  },
  {
   "cell_type": "code",
   "execution_count": 218,
   "id": "c0566574",
   "metadata": {},
   "outputs": [
    {
     "data": {
      "text/plain": [
       "58.941263732295965"
      ]
     },
     "execution_count": 218,
     "metadata": {},
     "output_type": "execute_result"
    }
   ],
   "source": [
    "best_mse1"
   ]
  },
  {
   "cell_type": "code",
   "execution_count": 219,
   "id": "020f8f46",
   "metadata": {},
   "outputs": [
    {
     "data": {
      "text/plain": [
       "5.36097410758654"
      ]
     },
     "execution_count": 219,
     "metadata": {},
     "output_type": "execute_result"
    }
   ],
   "source": [
    "mae1"
   ]
  },
  {
   "cell_type": "code",
   "execution_count": 220,
   "id": "1daeeace",
   "metadata": {},
   "outputs": [],
   "source": [
    "out_test = best_model1(X_test)\n",
    "pred_test = out_test.f_mean.numpy().squeeze()\n",
    "mse_test1 = metrics.mean_squared_error(Y_test,pred_test)\n",
    "mae_test1 = metrics.mean_absolute_error(Y_test,pred_test)"
   ]
  },
  {
   "cell_type": "code",
   "execution_count": 221,
   "id": "90009160",
   "metadata": {},
   "outputs": [
    {
     "data": {
      "text/plain": [
       "54.070551536998394"
      ]
     },
     "execution_count": 221,
     "metadata": {},
     "output_type": "execute_result"
    }
   ],
   "source": [
    "mse_test1"
   ]
  },
  {
   "cell_type": "code",
   "execution_count": 222,
   "id": "51c7ece3",
   "metadata": {},
   "outputs": [
    {
     "data": {
      "text/plain": [
       "5.635127890934849"
      ]
     },
     "execution_count": 222,
     "metadata": {},
     "output_type": "execute_result"
    }
   ],
   "source": [
    "mae_test1"
   ]
  },
  {
   "cell_type": "code",
   "execution_count": 22,
   "id": "9d712e1b",
   "metadata": {},
   "outputs": [],
   "source": [
    "best_mse2 = 100000\n",
    "best_model2 = None\n",
    "mae2 = None\n",
    "best_k1 = None\n",
    "best_k2 = None"
   ]
  },
  {
   "cell_type": "code",
   "execution_count": 23,
   "id": "ce1999c9",
   "metadata": {},
   "outputs": [],
   "source": [
    "for k1 in kernels:\n",
    "    for k2 in kernels:\n",
    "        for i in range(0,2):\n",
    "            kernel1 = k1+k2\n",
    "            inducing_points1 = gpflow.inducing_variables.InducingPoints(np.random.random((64, 6)))\n",
    "            layer1 = gpflux.layers.GPLayer(kernel1,inducing_points1,num_data=n,num_latent_gps=6)\n",
    "            kernel2 = k1+k2\n",
    "            inducing_points2 = gpflow.inducing_variables.InducingPoints(np.random.random((32, 6)))\n",
    "            layer2 = gpflux.layers.GPLayer(kernel2,inducing_points2,num_data =n,num_latent_gps=1,mean_function=gpflow.mean_functions.Zero())\n",
    "            likelihood = gpflux.layers.LikelihoodLayer(gpflow.likelihoods.Gaussian())\n",
    "            deep_gp = gpflux.models.DeepGP([layer1, layer2],likelihood)\n",
    "            model = deep_gp.as_training_model()\n",
    "            model.compile(tf.optimizers.Adam(0.01))\n",
    "            model.fit({\"inputs\":X_train,\"targets\":Y_train},epochs=50,verbose=0)\n",
    "            model = deep_gp.as_prediction_model()\n",
    "            out_val = model(X_val)\n",
    "            pred_val = out_val.f_mean.numpy().squeeze()\n",
    "            mse_val = metrics.mean_squared_error(Y_val,pred_val)\n",
    "            mae_val = metrics.mean_absolute_error(Y_val,pred_val)\n",
    "            if(mse_val < best_mse2):\n",
    "                best_mse2 = mse_val\n",
    "                best_model2 = model\n",
    "                mae2 = mae_val\n",
    "                best_k1 = k1\n",
    "                best_k2 = k2"
   ]
  },
  {
   "cell_type": "code",
   "execution_count": 24,
   "id": "43132715",
   "metadata": {},
   "outputs": [
    {
     "data": {
      "text/plain": [
       "52.258784724612"
      ]
     },
     "execution_count": 24,
     "metadata": {},
     "output_type": "execute_result"
    }
   ],
   "source": [
    "best_mse2"
   ]
  },
  {
   "cell_type": "code",
   "execution_count": 25,
   "id": "ac8ac37e",
   "metadata": {},
   "outputs": [
    {
     "data": {
      "text/plain": [
       "5.228190621800514"
      ]
     },
     "execution_count": 25,
     "metadata": {},
     "output_type": "execute_result"
    }
   ],
   "source": [
    "mae2"
   ]
  },
  {
   "cell_type": "code",
   "execution_count": 26,
   "id": "61bccebb",
   "metadata": {},
   "outputs": [
    {
     "data": {
      "text/html": [
       "&lt;gpflow.kernels.stationaries.Matern32 object at 0x000002518BA3DD00&gt;\n",
       "<table>\n",
       "<thead>\n",
       "<tr><th>name                 </th><th>class    </th><th>transform  </th><th>prior  </th><th>trainable  </th><th>shape  </th><th>dtype  </th><th style=\"text-align: right;\">  value</th></tr>\n",
       "</thead>\n",
       "<tbody>\n",
       "<tr><td>Matern32.variance    </td><td>Parameter</td><td>Softplus   </td><td>       </td><td>True       </td><td>()     </td><td>float64</td><td style=\"text-align: right;\">61.1827</td></tr>\n",
       "<tr><td>Matern32.lengthscales</td><td>Parameter</td><td>Softplus   </td><td>       </td><td>True       </td><td>()     </td><td>float64</td><td style=\"text-align: right;\">43.0283</td></tr>\n",
       "</tbody>\n",
       "</table>"
      ],
      "text/plain": [
       "<gpflow.kernels.stationaries.Matern32 object at 0x000002518BA3DD00>\n",
       "╒═══════════════════════╤═══════════╤═════════════╤═════════╤═════════════╤═════════╤═════════╤═════════╕\n",
       "│ name                  │ class     │ transform   │ prior   │ trainable   │ shape   │ dtype   │   value │\n",
       "╞═══════════════════════╪═══════════╪═════════════╪═════════╪═════════════╪═════════╪═════════╪═════════╡\n",
       "│ Matern32.variance     │ Parameter │ Softplus    │         │ True        │ ()      │ float64 │ 61.1827 │\n",
       "├───────────────────────┼───────────┼─────────────┼─────────┼─────────────┼─────────┼─────────┼─────────┤\n",
       "│ Matern32.lengthscales │ Parameter │ Softplus    │         │ True        │ ()      │ float64 │ 43.0283 │\n",
       "╘═══════════════════════╧═══════════╧═════════════╧═════════╧═════════════╧═════════╧═════════╧═════════╛"
      ]
     },
     "execution_count": 26,
     "metadata": {},
     "output_type": "execute_result"
    }
   ],
   "source": [
    "best_k1"
   ]
  },
  {
   "cell_type": "code",
   "execution_count": 27,
   "id": "388e962b",
   "metadata": {},
   "outputs": [
    {
     "data": {
      "text/html": [
       "&lt;gpflow.kernels.stationaries.Matern52 object at 0x000002518E0EEBE0&gt;\n",
       "<table>\n",
       "<thead>\n",
       "<tr><th>name                 </th><th>class    </th><th>transform  </th><th>prior  </th><th>trainable  </th><th>shape  </th><th>dtype  </th><th style=\"text-align: right;\">  value</th></tr>\n",
       "</thead>\n",
       "<tbody>\n",
       "<tr><td>Matern52.variance    </td><td>Parameter</td><td>Softplus   </td><td>       </td><td>True       </td><td>()     </td><td>float64</td><td style=\"text-align: right;\">59.1284</td></tr>\n",
       "<tr><td>Matern52.lengthscales</td><td>Parameter</td><td>Softplus   </td><td>       </td><td>True       </td><td>()     </td><td>float64</td><td style=\"text-align: right;\">35.6714</td></tr>\n",
       "</tbody>\n",
       "</table>"
      ],
      "text/plain": [
       "<gpflow.kernels.stationaries.Matern52 object at 0x000002518E0EEBE0>\n",
       "╒═══════════════════════╤═══════════╤═════════════╤═════════╤═════════════╤═════════╤═════════╤═════════╕\n",
       "│ name                  │ class     │ transform   │ prior   │ trainable   │ shape   │ dtype   │   value │\n",
       "╞═══════════════════════╪═══════════╪═════════════╪═════════╪═════════════╪═════════╪═════════╪═════════╡\n",
       "│ Matern52.variance     │ Parameter │ Softplus    │         │ True        │ ()      │ float64 │ 59.1284 │\n",
       "├───────────────────────┼───────────┼─────────────┼─────────┼─────────────┼─────────┼─────────┼─────────┤\n",
       "│ Matern52.lengthscales │ Parameter │ Softplus    │         │ True        │ ()      │ float64 │ 35.6714 │\n",
       "╘═══════════════════════╧═══════════╧═════════════╧═════════╧═════════════╧═════════╧═════════╧═════════╛"
      ]
     },
     "execution_count": 27,
     "metadata": {},
     "output_type": "execute_result"
    }
   ],
   "source": [
    "best_k2"
   ]
  },
  {
   "cell_type": "code",
   "execution_count": 28,
   "id": "dd57d2a0",
   "metadata": {},
   "outputs": [],
   "source": [
    "out_test = best_model2(X_test)\n",
    "pred_test = out_test.f_mean.numpy().squeeze()\n",
    "mse_test2 = metrics.mean_squared_error(Y_test,pred_test)\n",
    "mae_test2 = metrics.mean_absolute_error(Y_test,pred_test)"
   ]
  },
  {
   "cell_type": "code",
   "execution_count": 29,
   "id": "353f0b0b",
   "metadata": {},
   "outputs": [
    {
     "data": {
      "text/plain": [
       "71.53710357212199"
      ]
     },
     "execution_count": 29,
     "metadata": {},
     "output_type": "execute_result"
    }
   ],
   "source": [
    "mse_test2"
   ]
  },
  {
   "cell_type": "code",
   "execution_count": 30,
   "id": "d54e1e96",
   "metadata": {},
   "outputs": [
    {
     "data": {
      "text/plain": [
       "6.843591931790883"
      ]
     },
     "execution_count": 30,
     "metadata": {},
     "output_type": "execute_result"
    }
   ],
   "source": [
    "mae_test2"
   ]
  },
  {
   "cell_type": "code",
   "execution_count": 13,
   "id": "c44091ef",
   "metadata": {},
   "outputs": [],
   "source": [
    "best_mse3 = 100000\n",
    "best_model3 = None\n",
    "mae3 = None\n",
    "best_k11 = None\n",
    "best_k22 = None"
   ]
  },
  {
   "cell_type": "code",
   "execution_count": 14,
   "id": "771f972f",
   "metadata": {},
   "outputs": [],
   "source": [
    "for k1 in kernels:\n",
    "    for k2 in kernels:\n",
    "        for i in range(0,2):\n",
    "            kernel1 = k1*k2\n",
    "            inducing_points1 = gpflow.inducing_variables.InducingPoints(np.random.random((64, 6)))\n",
    "            layer1 = gpflux.layers.GPLayer(kernel1,inducing_points1,num_data=n,num_latent_gps=6)\n",
    "            kernel2 = k1*k2\n",
    "            inducing_points2 = gpflow.inducing_variables.InducingPoints(np.random.random((32, 6)))\n",
    "            layer2 = gpflux.layers.GPLayer(kernel2,inducing_points2,num_data =n,num_latent_gps=1,mean_function=gpflow.mean_functions.Zero())\n",
    "            likelihood = gpflux.layers.LikelihoodLayer(gpflow.likelihoods.Gaussian())\n",
    "            deep_gp = gpflux.models.DeepGP([layer1, layer2],likelihood)\n",
    "            model = deep_gp.as_training_model()\n",
    "            model.compile(tf.optimizers.Adam(0.01))\n",
    "            model.fit({\"inputs\":X_train,\"targets\":Y_train},epochs=50,verbose=0)\n",
    "            model = deep_gp.as_prediction_model()\n",
    "            out_val = model(X_val)\n",
    "            pred_val = out_val.f_mean.numpy().squeeze()\n",
    "            mse_val = metrics.mean_squared_error(Y_val,pred_val)\n",
    "            mae_val = metrics.mean_absolute_error(Y_val,pred_val)\n",
    "            if(mse_val < best_mse3):\n",
    "                best_mse3 = mse_val\n",
    "                best_model3 = model\n",
    "                mae3 = mae_val\n",
    "                best_k11 = k1\n",
    "                best_k22 = k2"
   ]
  },
  {
   "cell_type": "code",
   "execution_count": 15,
   "id": "aab07ae4",
   "metadata": {},
   "outputs": [
    {
     "data": {
      "text/plain": [
       "50.27310254007834"
      ]
     },
     "execution_count": 15,
     "metadata": {},
     "output_type": "execute_result"
    }
   ],
   "source": [
    "best_mse3"
   ]
  },
  {
   "cell_type": "code",
   "execution_count": 16,
   "id": "cf65ce9b",
   "metadata": {},
   "outputs": [
    {
     "data": {
      "text/plain": [
       "5.0739382633180155"
      ]
     },
     "execution_count": 16,
     "metadata": {},
     "output_type": "execute_result"
    }
   ],
   "source": [
    "mae3"
   ]
  },
  {
   "cell_type": "code",
   "execution_count": 17,
   "id": "dac29119",
   "metadata": {},
   "outputs": [
    {
     "data": {
      "text/html": [
       "&lt;gpflow.kernels.stationaries.SquaredExponential object at 0x000002518B7D79D0&gt;\n",
       "<table>\n",
       "<thead>\n",
       "<tr><th>name                           </th><th>class    </th><th>transform  </th><th>prior  </th><th>trainable  </th><th>shape  </th><th>dtype  </th><th style=\"text-align: right;\">  value</th></tr>\n",
       "</thead>\n",
       "<tbody>\n",
       "<tr><td>SquaredExponential.variance    </td><td>Parameter</td><td>Softplus   </td><td>       </td><td>True       </td><td>()     </td><td>float64</td><td style=\"text-align: right;\">13.0498</td></tr>\n",
       "<tr><td>SquaredExponential.lengthscales</td><td>Parameter</td><td>Softplus   </td><td>       </td><td>True       </td><td>()     </td><td>float64</td><td style=\"text-align: right;\">27.345 </td></tr>\n",
       "</tbody>\n",
       "</table>"
      ],
      "text/plain": [
       "<gpflow.kernels.stationaries.SquaredExponential object at 0x000002518B7D79D0>\n",
       "╒═════════════════════════════════╤═══════════╤═════════════╤═════════╤═════════════╤═════════╤═════════╤═════════╕\n",
       "│ name                            │ class     │ transform   │ prior   │ trainable   │ shape   │ dtype   │   value │\n",
       "╞═════════════════════════════════╪═══════════╪═════════════╪═════════╪═════════════╪═════════╪═════════╪═════════╡\n",
       "│ SquaredExponential.variance     │ Parameter │ Softplus    │         │ True        │ ()      │ float64 │ 13.0498 │\n",
       "├─────────────────────────────────┼───────────┼─────────────┼─────────┼─────────────┼─────────┼─────────┼─────────┤\n",
       "│ SquaredExponential.lengthscales │ Parameter │ Softplus    │         │ True        │ ()      │ float64 │ 27.345  │\n",
       "╘═════════════════════════════════╧═══════════╧═════════════╧═════════╧═════════════╧═════════╧═════════╧═════════╛"
      ]
     },
     "execution_count": 17,
     "metadata": {},
     "output_type": "execute_result"
    }
   ],
   "source": [
    "best_k11"
   ]
  },
  {
   "cell_type": "code",
   "execution_count": 18,
   "id": "ab923852",
   "metadata": {},
   "outputs": [
    {
     "data": {
      "text/html": [
       "&lt;gpflow.kernels.stationaries.Matern52 object at 0x000002518E0EEBE0&gt;\n",
       "<table>\n",
       "<thead>\n",
       "<tr><th>name                 </th><th>class    </th><th>transform  </th><th>prior  </th><th>trainable  </th><th>shape  </th><th>dtype  </th><th style=\"text-align: right;\">  value</th></tr>\n",
       "</thead>\n",
       "<tbody>\n",
       "<tr><td>Matern52.variance    </td><td>Parameter</td><td>Softplus   </td><td>       </td><td>True       </td><td>()     </td><td>float64</td><td style=\"text-align: right;\">17.2788</td></tr>\n",
       "<tr><td>Matern52.lengthscales</td><td>Parameter</td><td>Softplus   </td><td>       </td><td>True       </td><td>()     </td><td>float64</td><td style=\"text-align: right;\">45.6921</td></tr>\n",
       "</tbody>\n",
       "</table>"
      ],
      "text/plain": [
       "<gpflow.kernels.stationaries.Matern52 object at 0x000002518E0EEBE0>\n",
       "╒═══════════════════════╤═══════════╤═════════════╤═════════╤═════════════╤═════════╤═════════╤═════════╕\n",
       "│ name                  │ class     │ transform   │ prior   │ trainable   │ shape   │ dtype   │   value │\n",
       "╞═══════════════════════╪═══════════╪═════════════╪═════════╪═════════════╪═════════╪═════════╪═════════╡\n",
       "│ Matern52.variance     │ Parameter │ Softplus    │         │ True        │ ()      │ float64 │ 17.2788 │\n",
       "├───────────────────────┼───────────┼─────────────┼─────────┼─────────────┼─────────┼─────────┼─────────┤\n",
       "│ Matern52.lengthscales │ Parameter │ Softplus    │         │ True        │ ()      │ float64 │ 45.6921 │\n",
       "╘═══════════════════════╧═══════════╧═════════════╧═════════╧═════════════╧═════════╧═════════╧═════════╛"
      ]
     },
     "execution_count": 18,
     "metadata": {},
     "output_type": "execute_result"
    }
   ],
   "source": [
    "best_k22"
   ]
  },
  {
   "cell_type": "code",
   "execution_count": 19,
   "id": "8032ada1",
   "metadata": {},
   "outputs": [],
   "source": [
    "out_test = best_model3(X_test)\n",
    "pred_test = out_test.f_mean.numpy().squeeze()\n",
    "mse_test3 = metrics.mean_squared_error(Y_test,pred_test)\n",
    "mae_test3 = metrics.mean_absolute_error(Y_test,pred_test)"
   ]
  },
  {
   "cell_type": "code",
   "execution_count": 20,
   "id": "5e1c59cc",
   "metadata": {},
   "outputs": [
    {
     "data": {
      "text/plain": [
       "91.99616203789655"
      ]
     },
     "execution_count": 20,
     "metadata": {},
     "output_type": "execute_result"
    }
   ],
   "source": [
    "mse_test3"
   ]
  },
  {
   "cell_type": "code",
   "execution_count": 21,
   "id": "da16d599",
   "metadata": {},
   "outputs": [
    {
     "data": {
      "text/plain": [
       "6.684890144366629"
      ]
     },
     "execution_count": 21,
     "metadata": {},
     "output_type": "execute_result"
    }
   ],
   "source": [
    "mae_test3"
   ]
  },
  {
   "cell_type": "code",
   "execution_count": 145,
   "id": "6318746b",
   "metadata": {},
   "outputs": [],
   "source": [
    "from tensorflow.keras.models import Sequential\n",
    "from tensorflow.keras.layers import InputLayer, Dense\n",
    "from tensorflow.keras.losses import MeanSquaredError, MeanAbsoluteError\n",
    "from tensorflow.keras.optimizers import Adam"
   ]
  },
  {
   "cell_type": "code",
   "execution_count": 146,
   "id": "e3215a86",
   "metadata": {},
   "outputs": [],
   "source": [
    "best_model4 = None\n",
    "best_mse4 = 100000\n",
    "mae4 = None "
   ]
  },
  {
   "cell_type": "code",
   "execution_count": 147,
   "id": "db263d40",
   "metadata": {},
   "outputs": [
    {
     "name": "stdout",
     "output_type": "stream",
     "text": [
      "2/2 [==============================] - 1s 321ms/step - loss: 54.4509 - mean_absolute_error: 5.1964\n",
      "2/2 [==============================] - 0s 0s/step - loss: 57.3966 - mean_absolute_error: 5.2529\n",
      "2/2 [==============================] - 0s 0s/step - loss: 53.6710 - mean_absolute_error: 5.1519\n"
     ]
    }
   ],
   "source": [
    "for i in range(0,3):\n",
    "    model = Sequential([InputLayer(6,),Dense(32, activation='relu'),Dense(16, activation='relu'), Dense(1)])\n",
    "    model.compile(optimizer=Adam(learning_rate=0.001), loss=MeanSquaredError(),\n",
    "              metrics = [MeanAbsoluteError()])\n",
    "    model.fit(X_train,Y_train,epochs=50, batch_size=16, validation_data=(X_val,Y_val), verbose=0)\n",
    "    mse_val, mae_val = model.evaluate(X_val,Y_val)\n",
    "    if(mse_val < best_mse4):\n",
    "        best_mse4 = mse_val\n",
    "        mae4 = mae_val\n",
    "        best_model4 = model"
   ]
  },
  {
   "cell_type": "code",
   "execution_count": 148,
   "id": "d0699a51",
   "metadata": {},
   "outputs": [
    {
     "data": {
      "text/plain": [
       "53.6710490883962"
      ]
     },
     "execution_count": 148,
     "metadata": {},
     "output_type": "execute_result"
    }
   ],
   "source": [
    "best_mse4"
   ]
  },
  {
   "cell_type": "code",
   "execution_count": 149,
   "id": "2d1a83f0",
   "metadata": {},
   "outputs": [
    {
     "data": {
      "text/plain": [
       "5.151918173684164"
      ]
     },
     "execution_count": 149,
     "metadata": {},
     "output_type": "execute_result"
    }
   ],
   "source": [
    "mae4"
   ]
  },
  {
   "cell_type": "code",
   "execution_count": 175,
   "id": "8a988c44",
   "metadata": {},
   "outputs": [
    {
     "name": "stdout",
     "output_type": "stream",
     "text": [
      "2/2 [==============================] - 7s 42ms/step\n",
      "2/2 [==============================] - 0s 0s/step\n"
     ]
    }
   ],
   "source": [
    "mse_test4 = metrics.mean_squared_error(Y_test, best_model4.predict(X_test))\n",
    "mae_test4 = metrics.mean_absolute_error(Y_test, best_model4.predict(X_test))"
   ]
  },
  {
   "cell_type": "code",
   "execution_count": 176,
   "id": "42c975b9",
   "metadata": {},
   "outputs": [
    {
     "data": {
      "text/plain": [
       "46.84040950339601"
      ]
     },
     "execution_count": 176,
     "metadata": {},
     "output_type": "execute_result"
    }
   ],
   "source": [
    "mse_test4"
   ]
  },
  {
   "cell_type": "code",
   "execution_count": 177,
   "id": "6e036d4a",
   "metadata": {},
   "outputs": [
    {
     "data": {
      "text/plain": [
       "5.3229673328844385"
      ]
     },
     "execution_count": 177,
     "metadata": {},
     "output_type": "execute_result"
    }
   ],
   "source": [
    "mae_test4"
   ]
  },
  {
   "cell_type": "code",
   "execution_count": 150,
   "id": "fe2537fd",
   "metadata": {},
   "outputs": [],
   "source": [
    "model5 = sklearn.linear_model.LinearRegression()"
   ]
  },
  {
   "cell_type": "code",
   "execution_count": 151,
   "id": "bc068bdd",
   "metadata": {},
   "outputs": [
    {
     "data": {
      "text/plain": [
       "LinearRegression()"
      ]
     },
     "execution_count": 151,
     "metadata": {},
     "output_type": "execute_result"
    }
   ],
   "source": [
    "model5.fit(X_train, Y_train)"
   ]
  },
  {
   "cell_type": "code",
   "execution_count": 152,
   "id": "eec1ec2b",
   "metadata": {},
   "outputs": [],
   "source": [
    "pred_val = model5.predict(X_val)"
   ]
  },
  {
   "cell_type": "code",
   "execution_count": 153,
   "id": "47d52ffa",
   "metadata": {},
   "outputs": [],
   "source": [
    "mse5 = metrics.mean_squared_error(Y_val,pred_val)"
   ]
  },
  {
   "cell_type": "code",
   "execution_count": 154,
   "id": "8faf3876",
   "metadata": {},
   "outputs": [],
   "source": [
    "mae5 = metrics.mean_absolute_error(Y_val,pred_val)"
   ]
  },
  {
   "cell_type": "code",
   "execution_count": 155,
   "id": "24958d77",
   "metadata": {},
   "outputs": [
    {
     "data": {
      "text/plain": [
       "64.02101537186611"
      ]
     },
     "execution_count": 155,
     "metadata": {},
     "output_type": "execute_result"
    }
   ],
   "source": [
    "mse5"
   ]
  },
  {
   "cell_type": "code",
   "execution_count": 156,
   "id": "b0aee065",
   "metadata": {},
   "outputs": [
    {
     "data": {
      "text/plain": [
       "6.183107053753475"
      ]
     },
     "execution_count": 156,
     "metadata": {},
     "output_type": "execute_result"
    }
   ],
   "source": [
    "mae5"
   ]
  },
  {
   "cell_type": "code",
   "execution_count": 178,
   "id": "88234d66",
   "metadata": {},
   "outputs": [],
   "source": [
    "pred_test = model5.predict(X_test)\n",
    "mse_test5 = metrics.mean_squared_error(Y_test,pred_test)\n",
    "mae_test5 = metrics.mean_absolute_error(Y_test,pred_test)"
   ]
  },
  {
   "cell_type": "code",
   "execution_count": 181,
   "id": "f12a307f",
   "metadata": {},
   "outputs": [
    {
     "data": {
      "text/plain": [
       "67.29538020632779"
      ]
     },
     "execution_count": 181,
     "metadata": {},
     "output_type": "execute_result"
    }
   ],
   "source": [
    "mse_test5"
   ]
  },
  {
   "cell_type": "code",
   "execution_count": 182,
   "id": "a3aa0658",
   "metadata": {},
   "outputs": [
    {
     "data": {
      "text/plain": [
       "6.209483361273056"
      ]
     },
     "execution_count": 182,
     "metadata": {},
     "output_type": "execute_result"
    }
   ],
   "source": [
    "mae_test5"
   ]
  },
  {
   "cell_type": "code",
   "execution_count": 157,
   "id": "ea9d458f",
   "metadata": {},
   "outputs": [],
   "source": [
    "Cs = [0.001, 0.01, 0.1, 1, 10, 100]\n",
    "gammas = [0.001, 0.01, 0.1, 1, 10, 100]"
   ]
  },
  {
   "cell_type": "code",
   "execution_count": 158,
   "id": "348584fc",
   "metadata": {},
   "outputs": [],
   "source": [
    "best_mse6 = 100000\n",
    "mae6 = None\n",
    "best_C = None\n",
    "best_gamma = None\n",
    "best_model6 = None"
   ]
  },
  {
   "cell_type": "code",
   "execution_count": 159,
   "id": "4e8e37ae",
   "metadata": {},
   "outputs": [],
   "source": [
    "for C in Cs:\n",
    "    for gamma in gammas:\n",
    "        model = svm.SVR(kernel='rbf', gamma=gamma, C = C)\n",
    "        model.fit(X_train, Y_train)\n",
    "        mse_val = metrics.mean_squared_error(Y_val, model.predict(X_val))\n",
    "        mae_val = metrics.mean_absolute_error(Y_val, model.predict(X_val))\n",
    "        if (mse_val < best_mse6):\n",
    "            best_mse6 = mse_val\n",
    "            best_C = C\n",
    "            best_gamma = gamma\n",
    "            best_model6 = model\n",
    "            mae6 = mae_val"
   ]
  },
  {
   "cell_type": "code",
   "execution_count": 160,
   "id": "81408b2d",
   "metadata": {},
   "outputs": [
    {
     "data": {
      "text/plain": [
       "100"
      ]
     },
     "execution_count": 160,
     "metadata": {},
     "output_type": "execute_result"
    }
   ],
   "source": [
    "best_C"
   ]
  },
  {
   "cell_type": "code",
   "execution_count": 161,
   "id": "689a40ab",
   "metadata": {},
   "outputs": [
    {
     "data": {
      "text/plain": [
       "0.1"
      ]
     },
     "execution_count": 161,
     "metadata": {},
     "output_type": "execute_result"
    }
   ],
   "source": [
    "best_gamma"
   ]
  },
  {
   "cell_type": "code",
   "execution_count": 162,
   "id": "5766deb3",
   "metadata": {},
   "outputs": [
    {
     "data": {
      "text/plain": [
       "51.47507746015518"
      ]
     },
     "execution_count": 162,
     "metadata": {},
     "output_type": "execute_result"
    }
   ],
   "source": [
    "best_mse6"
   ]
  },
  {
   "cell_type": "code",
   "execution_count": 163,
   "id": "7f6353e6",
   "metadata": {},
   "outputs": [
    {
     "data": {
      "text/plain": [
       "5.0456167950347135"
      ]
     },
     "execution_count": 163,
     "metadata": {},
     "output_type": "execute_result"
    }
   ],
   "source": [
    "mae6"
   ]
  },
  {
   "cell_type": "code",
   "execution_count": 168,
   "id": "139bd8d7",
   "metadata": {},
   "outputs": [
    {
     "data": {
      "text/plain": [
       "SVR(C=100, gamma=0.1)"
      ]
     },
     "execution_count": 168,
     "metadata": {},
     "output_type": "execute_result"
    }
   ],
   "source": [
    "model = svm.SVR(kernel='rbf', gamma=best_gamma, C = best_C)\n",
    "model.fit(X_train, Y_train)"
   ]
  },
  {
   "cell_type": "code",
   "execution_count": 169,
   "id": "6092f4f0",
   "metadata": {},
   "outputs": [],
   "source": [
    "mse_test6 = metrics.mean_squared_error(Y_test, model.predict(X_test))\n",
    "mae_test6 = metrics.mean_absolute_error(Y_test, model.predict(X_test))"
   ]
  },
  {
   "cell_type": "code",
   "execution_count": 170,
   "id": "d83063a5",
   "metadata": {},
   "outputs": [
    {
     "data": {
      "text/plain": [
       "46.21066994157352"
      ]
     },
     "execution_count": 170,
     "metadata": {},
     "output_type": "execute_result"
    }
   ],
   "source": [
    "mse_test6"
   ]
  },
  {
   "cell_type": "code",
   "execution_count": 171,
   "id": "919c08cb",
   "metadata": {},
   "outputs": [
    {
     "data": {
      "text/plain": [
       "4.804703258497158"
      ]
     },
     "execution_count": 171,
     "metadata": {},
     "output_type": "execute_result"
    }
   ],
   "source": [
    "mae_test6"
   ]
  },
  {
   "cell_type": "code",
   "execution_count": null,
   "id": "50e6db6e",
   "metadata": {},
   "outputs": [],
   "source": []
  }
 ],
 "metadata": {
  "kernelspec": {
   "display_name": "Python 3",
   "language": "python",
   "name": "python3"
  },
  "language_info": {
   "codemirror_mode": {
    "name": "ipython",
    "version": 3
   },
   "file_extension": ".py",
   "mimetype": "text/x-python",
   "name": "python",
   "nbconvert_exporter": "python",
   "pygments_lexer": "ipython3",
   "version": "3.8.8"
  }
 },
 "nbformat": 4,
 "nbformat_minor": 5
}
