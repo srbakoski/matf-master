{
 "cells": [
  {
   "cell_type": "code",
   "execution_count": 598,
   "id": "fa17ff51",
   "metadata": {},
   "outputs": [],
   "source": [
    "import matplotlib.pyplot as plt\n",
    "import numpy as np\n",
    "import pandas as pd\n",
    "import tensorflow as tf\n",
    "import gpflow\n",
    "import gpflux\n",
    "import sklearn\n",
    "from sklearn import model_selection\n",
    "from sklearn import preprocessing\n",
    "from sklearn import metrics\n",
    "from sklearn import svm"
   ]
  },
  {
   "cell_type": "code",
   "execution_count": 599,
   "id": "6c6379f6",
   "metadata": {},
   "outputs": [],
   "source": [
    "import random\n",
    "import warnings\n",
    "warnings.filterwarnings('ignore')"
   ]
  },
  {
   "cell_type": "code",
   "execution_count": 600,
   "id": "78dd4ad0",
   "metadata": {},
   "outputs": [],
   "source": [
    "random.seed(7)\n",
    "df = pd.read_csv(\"Real estate.csv\")\n",
    "tf.keras.backend.set_floatx(\"float64\")"
   ]
  },
  {
   "cell_type": "code",
   "execution_count": 601,
   "id": "34b1f6cd",
   "metadata": {},
   "outputs": [],
   "source": [
    "X = np.array(df.drop(['No','Y house price of unit area'], axis=1))\n",
    "Y = np.array(df['Y house price of unit area'])"
   ]
  },
  {
   "cell_type": "code",
   "execution_count": 602,
   "id": "ce2572a0",
   "metadata": {},
   "outputs": [],
   "source": [
    "X = np.reshape(X,(-1,6))\n",
    "Y = np.reshape(Y, (-1,1))"
   ]
  },
  {
   "cell_type": "code",
   "execution_count": 603,
   "id": "0dba17ea",
   "metadata": {},
   "outputs": [],
   "source": [
    "indexes = np.arange(len(Y))\n",
    "np.random.shuffle(indexes)\n",
    "X = X[indexes]\n",
    "Y = Y[indexes]"
   ]
  },
  {
   "cell_type": "code",
   "execution_count": 604,
   "id": "b9fc6ca2",
   "metadata": {},
   "outputs": [],
   "source": [
    "X_train = X[0:290]\n",
    "X_val = X[290:352]\n",
    "X_test = X[352:414]"
   ]
  },
  {
   "cell_type": "code",
   "execution_count": 605,
   "id": "a9a245f1",
   "metadata": {},
   "outputs": [],
   "source": [
    "Y_train = Y[0:290]\n",
    "Y_val = Y[290:352]\n",
    "Y_test = Y[352:414]"
   ]
  },
  {
   "cell_type": "code",
   "execution_count": 606,
   "id": "39700d94",
   "metadata": {},
   "outputs": [],
   "source": [
    "scaler = preprocessing.StandardScaler()\n",
    "scaler.fit(X_train)\n",
    "X_train = scaler.transform(X_train)\n",
    "X_val = scaler.transform(X_val)\n",
    "X_test = scaler.transform(X_test)"
   ]
  },
  {
   "cell_type": "code",
   "execution_count": 607,
   "id": "ac563ea3",
   "metadata": {},
   "outputs": [],
   "source": [
    "n = len(Y_train)"
   ]
  },
  {
   "cell_type": "code",
   "execution_count": 608,
   "id": "b26d78b5",
   "metadata": {},
   "outputs": [],
   "source": [
    "kernels = [gpflow.kernels.Matern12(), gpflow.kernels.Matern32(), gpflow.kernels.Matern52(), gpflow.kernels.RBF(),\n",
    "           gpflow.kernels.RationalQuadratic(), gpflow.kernels.Cosine(), \n",
    "           gpflow.kernels.Periodic(base_kernel=gpflow.kernels.RBF())]"
   ]
  },
  {
   "cell_type": "code",
   "execution_count": 609,
   "id": "c80b329d",
   "metadata": {},
   "outputs": [],
   "source": [
    "mse_val = np.empty(15, dtype=float)\n",
    "mae_val = np.empty(15, dtype=float)\n",
    "i=0"
   ]
  },
  {
   "cell_type": "code",
   "execution_count": 610,
   "id": "de973ec0",
   "metadata": {},
   "outputs": [],
   "source": [
    "for k in kernels:\n",
    "    kernel1 = k\n",
    "    inducing_points1 = gpflow.inducing_variables.InducingPoints(np.random.random((32, 6)))\n",
    "    layer1 = gpflux.layers.GPLayer(kernel1,inducing_points1,num_data=n,num_latent_gps=1,\n",
    "                                  mean_function=gpflow.mean_functions.Zero())\n",
    "    likelihood = gpflux.layers.LikelihoodLayer(gpflow.likelihoods.Gaussian())\n",
    "    gp = gpflux.models.DeepGP([layer1],likelihood)\n",
    "    model = gp.as_training_model()\n",
    "    model.compile(tf.optimizers.Adam(0.01))\n",
    "    model.fit({\"inputs\":X_train,\"targets\":Y_train},epochs=150,verbose=0)\n",
    "    model = gp.as_prediction_model()\n",
    "    out_val = model(X_val)\n",
    "    pred_val = out_val.f_mean.numpy().squeeze()\n",
    "    mse_val[i] = metrics.mean_squared_error(Y_val,pred_val)\n",
    "    mae_val[i] = metrics.mean_absolute_error(Y_val,pred_val)\n",
    "    i = i+1"
   ]
  },
  {
   "cell_type": "code",
   "execution_count": 611,
   "id": "c0566574",
   "metadata": {},
   "outputs": [
    {
     "data": {
      "text/plain": [
       "array([3.03615103e+001, 3.07115952e+001, 3.46917575e+001, 3.51937674e+001,\n",
       "       2.96066082e+001, 1.52192711e+003, 7.71077660e+001, 3.18299369e-313,\n",
       "       3.60739285e-313, 4.03179200e-313, 4.45619116e-313, 4.88059032e-313,\n",
       "       5.30498948e-313, 5.72938864e-313, 6.15378780e-313])"
      ]
     },
     "execution_count": 611,
     "metadata": {},
     "output_type": "execute_result"
    }
   ],
   "source": [
    "mse_val"
   ]
  },
  {
   "cell_type": "code",
   "execution_count": 612,
   "id": "020f8f46",
   "metadata": {},
   "outputs": [
    {
     "data": {
      "text/plain": [
       "array([3.87578055e+000, 3.95150365e+000, 4.20041356e+000, 4.27201536e+000,\n",
       "       3.79169829e+000, 3.66967433e+001, 6.62920635e+000, 3.18299369e-313,\n",
       "       3.60739285e-313, 4.03179200e-313, 4.45619116e-313, 4.88059032e-313,\n",
       "       5.30498948e-313, 5.72938864e-313, 6.15378780e-313])"
      ]
     },
     "execution_count": 612,
     "metadata": {},
     "output_type": "execute_result"
    }
   ],
   "source": [
    "mae_val"
   ]
  },
  {
   "cell_type": "code",
   "execution_count": 613,
   "id": "08628bc0",
   "metadata": {},
   "outputs": [],
   "source": [
    "kernel1 = gpflow.kernels.Matern12() + gpflow.kernels.Matern32() + gpflow.kernels.Matern52()+ gpflow.kernels.RBF()+gpflow.kernels.RationalQuadratic()+ gpflow.kernels.Cosine()+ gpflow.kernels.Periodic(base_kernel=gpflow.kernels.RBF())\n",
    "inducing_points1 = gpflow.inducing_variables.InducingPoints(np.random.random((32, 6)))\n",
    "layer1 = gpflux.layers.GPLayer(kernel1,inducing_points1,num_data=n,num_latent_gps=6)\n",
    "kernel2 = gpflow.kernels.Matern12() + gpflow.kernels.Matern32() + gpflow.kernels.Matern52()+ gpflow.kernels.RBF()+gpflow.kernels.RationalQuadratic()+ gpflow.kernels.Cosine()+ gpflow.kernels.Periodic(base_kernel=gpflow.kernels.RBF())\n",
    "inducing_points2 = gpflow.inducing_variables.InducingPoints(np.random.random((16, 6)))\n",
    "layer2 = gpflux.layers.GPLayer(kernel2,inducing_points2,num_data =n,num_latent_gps=1,mean_function=gpflow.mean_functions.Zero())"
   ]
  },
  {
   "cell_type": "code",
   "execution_count": 614,
   "id": "53feecad",
   "metadata": {},
   "outputs": [],
   "source": [
    "likelihood = gpflux.layers.LikelihoodLayer(gpflow.likelihoods.Gaussian())\n",
    "deep_gp = gpflux.models.DeepGP([layer1, layer2],likelihood)\n",
    "model = deep_gp.as_training_model()\n",
    "model.compile(tf.optimizers.Adam(0.01))\n",
    "model.fit({\"inputs\":X_train,\"targets\":Y_train},epochs=150,verbose=0);"
   ]
  },
  {
   "cell_type": "code",
   "execution_count": 615,
   "id": "f46244e4",
   "metadata": {},
   "outputs": [],
   "source": [
    "model1 = deep_gp.as_prediction_model()\n",
    "out_train = model1(X_train)\n",
    "out_val = model1(X_val)\n",
    "pred_train = out_train.f_mean.numpy().squeeze()\n",
    "pred_val = out_val.f_mean.numpy().squeeze()"
   ]
  },
  {
   "cell_type": "code",
   "execution_count": 616,
   "id": "b7fca631",
   "metadata": {},
   "outputs": [
    {
     "data": {
      "text/plain": [
       "194.61778711650732"
      ]
     },
     "execution_count": 616,
     "metadata": {},
     "output_type": "execute_result"
    }
   ],
   "source": [
    "metrics.mean_squared_error(Y_train,pred_train)"
   ]
  },
  {
   "cell_type": "code",
   "execution_count": 617,
   "id": "6c241ea9",
   "metadata": {},
   "outputs": [
    {
     "data": {
      "text/plain": [
       "10.768622387708946"
      ]
     },
     "execution_count": 617,
     "metadata": {},
     "output_type": "execute_result"
    }
   ],
   "source": [
    "metrics.mean_absolute_error(Y_train,pred_train)"
   ]
  },
  {
   "cell_type": "code",
   "execution_count": 618,
   "id": "69d49b67",
   "metadata": {},
   "outputs": [
    {
     "data": {
      "text/plain": [
       "160.3917648413938"
      ]
     },
     "execution_count": 618,
     "metadata": {},
     "output_type": "execute_result"
    }
   ],
   "source": [
    "metrics.mean_squared_error(Y_val,pred_val)"
   ]
  },
  {
   "cell_type": "code",
   "execution_count": 619,
   "id": "5dcbf338",
   "metadata": {},
   "outputs": [
    {
     "data": {
      "text/plain": [
       "10.660927448930009"
      ]
     },
     "execution_count": 619,
     "metadata": {},
     "output_type": "execute_result"
    }
   ],
   "source": [
    "metrics.mean_absolute_error(Y_val,pred_val)"
   ]
  },
  {
   "cell_type": "code",
   "execution_count": 620,
   "id": "33d0adc4",
   "metadata": {},
   "outputs": [],
   "source": [
    "mse_val[7] = metrics.mean_squared_error(Y_val,pred_val)\n",
    "mae_val[7] = metrics.mean_absolute_error(Y_val,pred_val)"
   ]
  },
  {
   "cell_type": "code",
   "execution_count": 621,
   "id": "669c8bfc",
   "metadata": {},
   "outputs": [],
   "source": [
    "kernel1 = gpflow.kernels.RBF()\n",
    "inducing_points1 = gpflow.inducing_variables.InducingPoints(np.random.random((32, 6)))\n",
    "layer1 = gpflux.layers.GPLayer(kernel1,inducing_points1,num_data=n,num_latent_gps=6)\n",
    "kernel2 = gpflow.kernels.Matern12()\n",
    "inducing_points2 = gpflow.inducing_variables.InducingPoints(np.random.random((16, 6)))\n",
    "layer2 = gpflux.layers.GPLayer(kernel2,inducing_points2,num_data =n,num_latent_gps=1,mean_function=gpflow.mean_functions.Zero())"
   ]
  },
  {
   "cell_type": "code",
   "execution_count": 622,
   "id": "11babd4d",
   "metadata": {},
   "outputs": [],
   "source": [
    "likelihood = gpflux.layers.LikelihoodLayer(gpflow.likelihoods.Gaussian())\n",
    "deep_gp = gpflux.models.DeepGP([layer1, layer2],likelihood)\n",
    "model = deep_gp.as_training_model()\n",
    "model.compile(tf.optimizers.Adam(0.01))\n",
    "model.fit({\"inputs\":X_train,\"targets\":Y_train},epochs=150,verbose=0);"
   ]
  },
  {
   "cell_type": "code",
   "execution_count": 623,
   "id": "236e7ed9",
   "metadata": {},
   "outputs": [],
   "source": [
    "model2 = deep_gp.as_prediction_model()\n",
    "out_train = model2(X_train)\n",
    "out_val = model2(X_val)\n",
    "pred_train = out_train.f_mean.numpy().squeeze()\n",
    "pred_val = out_val.f_mean.numpy().squeeze()"
   ]
  },
  {
   "cell_type": "code",
   "execution_count": 624,
   "id": "32804f65",
   "metadata": {},
   "outputs": [
    {
     "data": {
      "text/plain": [
       "55.51770268324888"
      ]
     },
     "execution_count": 624,
     "metadata": {},
     "output_type": "execute_result"
    }
   ],
   "source": [
    "metrics.mean_squared_error(Y_train,pred_train)"
   ]
  },
  {
   "cell_type": "code",
   "execution_count": 625,
   "id": "7961554c",
   "metadata": {},
   "outputs": [
    {
     "data": {
      "text/plain": [
       "4.9976349086574325"
      ]
     },
     "execution_count": 625,
     "metadata": {},
     "output_type": "execute_result"
    }
   ],
   "source": [
    "metrics.mean_absolute_error(Y_train,pred_train)"
   ]
  },
  {
   "cell_type": "code",
   "execution_count": 626,
   "id": "dea7953a",
   "metadata": {},
   "outputs": [
    {
     "data": {
      "text/plain": [
       "34.84816281556302"
      ]
     },
     "execution_count": 626,
     "metadata": {},
     "output_type": "execute_result"
    }
   ],
   "source": [
    "metrics.mean_squared_error(Y_val,pred_val)"
   ]
  },
  {
   "cell_type": "code",
   "execution_count": 627,
   "id": "542577bd",
   "metadata": {},
   "outputs": [
    {
     "data": {
      "text/plain": [
       "4.290339731550978"
      ]
     },
     "execution_count": 627,
     "metadata": {},
     "output_type": "execute_result"
    }
   ],
   "source": [
    "metrics.mean_absolute_error(Y_val,pred_val)"
   ]
  },
  {
   "cell_type": "code",
   "execution_count": 628,
   "id": "0e747514",
   "metadata": {},
   "outputs": [],
   "source": [
    "mse_val[8] = metrics.mean_squared_error(Y_val,pred_val)\n",
    "mae_val[8] = metrics.mean_absolute_error(Y_val,pred_val)"
   ]
  },
  {
   "cell_type": "code",
   "execution_count": 629,
   "id": "508966f2",
   "metadata": {},
   "outputs": [],
   "source": [
    "kernel1 = gpflow.kernels.RBF()*gpflow.kernels.Linear()\n",
    "inducing_points1 = gpflow.inducing_variables.InducingPoints(np.random.random((32, 6)))\n",
    "layer1 = gpflux.layers.GPLayer(kernel1,inducing_points1,num_data=n,num_latent_gps=6)\n",
    "kernel2 = gpflow.kernels.Matern12()*gpflow.kernels.Linear()\n",
    "inducing_points2 = gpflow.inducing_variables.InducingPoints(np.random.random((16, 6)))\n",
    "layer2 = gpflux.layers.GPLayer(kernel2,inducing_points2,num_data =n,num_latent_gps=1,mean_function=gpflow.mean_functions.Zero())"
   ]
  },
  {
   "cell_type": "code",
   "execution_count": 630,
   "id": "a0491422",
   "metadata": {},
   "outputs": [],
   "source": [
    "likelihood = gpflux.layers.LikelihoodLayer(gpflow.likelihoods.Gaussian())\n",
    "deep_gp = gpflux.models.DeepGP([layer1, layer2],likelihood)\n",
    "model = deep_gp.as_training_model()\n",
    "model.compile(tf.optimizers.Adam(0.01))\n",
    "model.fit({\"inputs\":X_train,\"targets\":Y_train},epochs=150,verbose=0);"
   ]
  },
  {
   "cell_type": "code",
   "execution_count": 631,
   "id": "835850aa",
   "metadata": {},
   "outputs": [],
   "source": [
    "model3 = deep_gp.as_prediction_model()\n",
    "out_train = model3(X_train)\n",
    "out_val = model3(X_val)\n",
    "pred_train = out_train.f_mean.numpy().squeeze()\n",
    "pred_val = out_val.f_mean.numpy().squeeze()"
   ]
  },
  {
   "cell_type": "code",
   "execution_count": 632,
   "id": "d8b19739",
   "metadata": {},
   "outputs": [
    {
     "data": {
      "text/plain": [
       "70.45169738151651"
      ]
     },
     "execution_count": 632,
     "metadata": {},
     "output_type": "execute_result"
    }
   ],
   "source": [
    "metrics.mean_squared_error(Y_train,pred_train)"
   ]
  },
  {
   "cell_type": "code",
   "execution_count": 633,
   "id": "867d0d29",
   "metadata": {},
   "outputs": [
    {
     "data": {
      "text/plain": [
       "6.023298540783055"
      ]
     },
     "execution_count": 633,
     "metadata": {},
     "output_type": "execute_result"
    }
   ],
   "source": [
    "metrics.mean_absolute_error(Y_train,pred_train)"
   ]
  },
  {
   "cell_type": "code",
   "execution_count": 634,
   "id": "3d35a663",
   "metadata": {},
   "outputs": [
    {
     "data": {
      "text/plain": [
       "55.76627724985637"
      ]
     },
     "execution_count": 634,
     "metadata": {},
     "output_type": "execute_result"
    }
   ],
   "source": [
    "metrics.mean_squared_error(Y_val,pred_val)"
   ]
  },
  {
   "cell_type": "code",
   "execution_count": 635,
   "id": "f283a09a",
   "metadata": {},
   "outputs": [
    {
     "data": {
      "text/plain": [
       "5.880273651640128"
      ]
     },
     "execution_count": 635,
     "metadata": {},
     "output_type": "execute_result"
    }
   ],
   "source": [
    "metrics.mean_absolute_error(Y_val,pred_val)"
   ]
  },
  {
   "cell_type": "code",
   "execution_count": 636,
   "id": "0e9785ba",
   "metadata": {},
   "outputs": [],
   "source": [
    "mse_val[9] = metrics.mean_squared_error(Y_val,pred_val)\n",
    "mae_val[9] = metrics.mean_absolute_error(Y_val,pred_val)"
   ]
  },
  {
   "cell_type": "code",
   "execution_count": 637,
   "id": "c63767fc",
   "metadata": {},
   "outputs": [],
   "source": [
    "kernel1 = gpflow.kernels.RBF()*gpflow.kernels.Linear()*gpflow.kernels.Periodic(base_kernel=gpflow.kernels.RBF())\n",
    "inducing_points1 = gpflow.inducing_variables.InducingPoints(np.random.random((32, 6)))\n",
    "layer1 = gpflux.layers.GPLayer(kernel1,inducing_points1,num_data=n,num_latent_gps=6)\n",
    "kernel2 = gpflow.kernels.RationalQuadratic()\n",
    "inducing_points2 = gpflow.inducing_variables.InducingPoints(np.random.random((16, 6)))\n",
    "layer2 = gpflux.layers.GPLayer(kernel2,inducing_points2,num_data =n,num_latent_gps=1,mean_function=gpflow.mean_functions.Zero())"
   ]
  },
  {
   "cell_type": "code",
   "execution_count": 638,
   "id": "cf5acc4d",
   "metadata": {},
   "outputs": [],
   "source": [
    "likelihood = gpflux.layers.LikelihoodLayer(gpflow.likelihoods.Gaussian())\n",
    "deep_gp = gpflux.models.DeepGP([layer1, layer2],likelihood)\n",
    "model = deep_gp.as_training_model()\n",
    "model.compile(tf.optimizers.Adam(0.01))\n",
    "model.fit({\"inputs\":X_train,\"targets\":Y_train},epochs=150,verbose=0);"
   ]
  },
  {
   "cell_type": "code",
   "execution_count": 639,
   "id": "6a2640f3",
   "metadata": {},
   "outputs": [],
   "source": [
    "model4 = deep_gp.as_prediction_model()\n",
    "out_train = model4(X_train)\n",
    "out_val = model4(X_val)\n",
    "pred_train = out_train.f_mean.numpy().squeeze()\n",
    "pred_val = out_val.f_mean.numpy().squeeze()"
   ]
  },
  {
   "cell_type": "code",
   "execution_count": 640,
   "id": "fd0872dd",
   "metadata": {},
   "outputs": [
    {
     "data": {
      "text/plain": [
       "64.33911047449084"
      ]
     },
     "execution_count": 640,
     "metadata": {},
     "output_type": "execute_result"
    }
   ],
   "source": [
    "metrics.mean_squared_error(Y_train,pred_train)"
   ]
  },
  {
   "cell_type": "code",
   "execution_count": 641,
   "id": "1f91cb52",
   "metadata": {},
   "outputs": [
    {
     "data": {
      "text/plain": [
       "5.327363825415763"
      ]
     },
     "execution_count": 641,
     "metadata": {},
     "output_type": "execute_result"
    }
   ],
   "source": [
    "metrics.mean_absolute_error(Y_train,pred_train)"
   ]
  },
  {
   "cell_type": "code",
   "execution_count": 642,
   "id": "d62693cd",
   "metadata": {},
   "outputs": [
    {
     "data": {
      "text/plain": [
       "28.385104634265385"
      ]
     },
     "execution_count": 642,
     "metadata": {},
     "output_type": "execute_result"
    }
   ],
   "source": [
    "metrics.mean_squared_error(Y_val,pred_val)"
   ]
  },
  {
   "cell_type": "code",
   "execution_count": 643,
   "id": "00f5fdbb",
   "metadata": {},
   "outputs": [
    {
     "data": {
      "text/plain": [
       "3.6208430868226507"
      ]
     },
     "execution_count": 643,
     "metadata": {},
     "output_type": "execute_result"
    }
   ],
   "source": [
    "metrics.mean_absolute_error(Y_val,pred_val)"
   ]
  },
  {
   "cell_type": "code",
   "execution_count": 644,
   "id": "d2252b0c",
   "metadata": {},
   "outputs": [],
   "source": [
    "mse_val[10] = metrics.mean_squared_error(Y_val,pred_val)\n",
    "mae_val[10] = metrics.mean_absolute_error(Y_val,pred_val)"
   ]
  },
  {
   "cell_type": "code",
   "execution_count": 645,
   "id": "c6f12f27",
   "metadata": {},
   "outputs": [],
   "source": [
    "kernel1 = gpflow.kernels.RBF()\n",
    "inducing_points1 = gpflow.inducing_variables.InducingPoints(np.random.random((32, 6)))\n",
    "layer1 = gpflux.layers.GPLayer(kernel1,inducing_points1,num_data=n,num_latent_gps=6)\n",
    "kernel2 = gpflow.kernels.RBF()\n",
    "inducing_points2 = gpflow.inducing_variables.InducingPoints(np.random.random((16, 6)))\n",
    "layer2 = gpflux.layers.GPLayer(kernel2,inducing_points2,num_data=n,num_latent_gps=6)\n",
    "kernel3 = gpflow.kernels.RBF()\n",
    "inducing_points3 = gpflow.inducing_variables.InducingPoints(np.random.random((16, 6)))\n",
    "layer3 = gpflux.layers.GPLayer(kernel3,inducing_points3,num_data =n,num_latent_gps=1,mean_function=gpflow.mean_functions.Zero())"
   ]
  },
  {
   "cell_type": "code",
   "execution_count": 646,
   "id": "dc65cf20",
   "metadata": {},
   "outputs": [],
   "source": [
    "likelihood = gpflux.layers.LikelihoodLayer(gpflow.likelihoods.Gaussian())\n",
    "deep_gp = gpflux.models.DeepGP([layer1, layer2, layer3],likelihood)\n",
    "model = deep_gp.as_training_model()\n",
    "model.compile(tf.optimizers.Adam(0.01))\n",
    "model.fit({\"inputs\":X_train,\"targets\":Y_train},epochs=150,verbose=0);"
   ]
  },
  {
   "cell_type": "code",
   "execution_count": 647,
   "id": "377e362c",
   "metadata": {},
   "outputs": [],
   "source": [
    "model5 = deep_gp.as_prediction_model()\n",
    "out_train = model5(X_train)\n",
    "out_val = model5(X_val)\n",
    "pred_train = out_train.f_mean.numpy().squeeze()\n",
    "pred_val = out_val.f_mean.numpy().squeeze()"
   ]
  },
  {
   "cell_type": "code",
   "execution_count": 648,
   "id": "4cb22a9e",
   "metadata": {},
   "outputs": [
    {
     "data": {
      "text/plain": [
       "61.08790266137472"
      ]
     },
     "execution_count": 648,
     "metadata": {},
     "output_type": "execute_result"
    }
   ],
   "source": [
    "metrics.mean_squared_error(Y_train,pred_train)"
   ]
  },
  {
   "cell_type": "code",
   "execution_count": 649,
   "id": "c408641b",
   "metadata": {},
   "outputs": [
    {
     "data": {
      "text/plain": [
       "5.2969138585705355"
      ]
     },
     "execution_count": 649,
     "metadata": {},
     "output_type": "execute_result"
    }
   ],
   "source": [
    "metrics.mean_absolute_error(Y_train,pred_train)"
   ]
  },
  {
   "cell_type": "code",
   "execution_count": 650,
   "id": "4cb152ec",
   "metadata": {},
   "outputs": [
    {
     "data": {
      "text/plain": [
       "35.62475537805778"
      ]
     },
     "execution_count": 650,
     "metadata": {},
     "output_type": "execute_result"
    }
   ],
   "source": [
    "metrics.mean_squared_error(Y_val,pred_val)"
   ]
  },
  {
   "cell_type": "code",
   "execution_count": 651,
   "id": "5a5e7e4a",
   "metadata": {},
   "outputs": [
    {
     "data": {
      "text/plain": [
       "4.127348365715865"
      ]
     },
     "execution_count": 651,
     "metadata": {},
     "output_type": "execute_result"
    }
   ],
   "source": [
    "metrics.mean_absolute_error(Y_val,pred_val)"
   ]
  },
  {
   "cell_type": "code",
   "execution_count": 652,
   "id": "67b90d25",
   "metadata": {},
   "outputs": [],
   "source": [
    "mse_val[11] = metrics.mean_squared_error(Y_val,pred_val)\n",
    "mae_val[11] = metrics.mean_absolute_error(Y_val,pred_val)"
   ]
  },
  {
   "cell_type": "code",
   "execution_count": 653,
   "id": "6318746b",
   "metadata": {},
   "outputs": [],
   "source": [
    "from tensorflow.keras.models import Sequential\n",
    "from tensorflow.keras.layers import InputLayer, Dense\n",
    "from tensorflow.keras.losses import MeanSquaredError, MeanAbsoluteError\n",
    "from tensorflow.keras.optimizers import Adam"
   ]
  },
  {
   "cell_type": "code",
   "execution_count": 654,
   "id": "713d3350",
   "metadata": {},
   "outputs": [],
   "source": [
    "model6 = Sequential([InputLayer(6,),Dense(32, activation='relu'), Dense(1)])\n",
    "model6.compile(optimizer=Adam(learning_rate=0.001), loss=MeanSquaredError(),\n",
    "              metrics = [MeanAbsoluteError()])"
   ]
  },
  {
   "cell_type": "code",
   "execution_count": 655,
   "id": "32a9fc54",
   "metadata": {},
   "outputs": [],
   "source": [
    "history = model6.fit(X_train,Y_train,epochs=150, batch_size=16, validation_data=(X_val,Y_val), verbose=0)"
   ]
  },
  {
   "cell_type": "code",
   "execution_count": 656,
   "id": "fe4a466e",
   "metadata": {},
   "outputs": [
    {
     "data": {
      "image/png": "[encoded data removed]",
      "text/plain": [
       "<Figure size 432x288 with 1 Axes>"
      ]
     },
     "metadata": {
      "needs_background": "light"
     },
     "output_type": "display_data"
    },
    {
     "name": "stdout",
     "output_type": "stream",
     "text": [
      "10/10 [==============================] - 0s 2ms/step - loss: 66.6955 - mean_absolute_error: 5.2992\n",
      "2/2 [==============================] - 0s 31ms/step - loss: 33.1471 - mean_absolute_error: 4.1363\n"
     ]
    }
   ],
   "source": [
    "plt.plot(history.epoch,history.history['loss'], label='train')\n",
    "plt.plot(history.epoch, history.history['val_loss'], label='validation')\n",
    "plt.legend(loc='best')\n",
    "plt.show()\n",
    "train_mse6, train_mae6 = model6.evaluate(X_train,Y_train)\n",
    "val_mse6, val_mae6 = model6.evaluate(X_val,Y_val)"
   ]
  },
  {
   "cell_type": "code",
   "execution_count": 657,
   "id": "d0699a51",
   "metadata": {},
   "outputs": [],
   "source": [
    "mse_val[12] = val_mse6\n",
    "mae_val[12] = val_mae6"
   ]
  },
  {
   "cell_type": "code",
   "execution_count": 658,
   "id": "fe2537fd",
   "metadata": {},
   "outputs": [],
   "source": [
    "model7 = sklearn.linear_model.LinearRegression()"
   ]
  },
  {
   "cell_type": "code",
   "execution_count": 659,
   "id": "bc068bdd",
   "metadata": {},
   "outputs": [
    {
     "data": {
      "text/plain": [
       "LinearRegression()"
      ]
     },
     "execution_count": 659,
     "metadata": {},
     "output_type": "execute_result"
    }
   ],
   "source": [
    "model7.fit(X_train, Y_train)"
   ]
  },
  {
   "cell_type": "code",
   "execution_count": 660,
   "id": "eec1ec2b",
   "metadata": {},
   "outputs": [],
   "source": [
    "pred_train = model7.predict(X_train)\n",
    "pred_val = model7.predict(X_val)"
   ]
  },
  {
   "cell_type": "code",
   "execution_count": 661,
   "id": "41615a0e",
   "metadata": {},
   "outputs": [
    {
     "data": {
      "text/plain": [
       "86.87071891587512"
      ]
     },
     "execution_count": 661,
     "metadata": {},
     "output_type": "execute_result"
    }
   ],
   "source": [
    "metrics.mean_squared_error(Y_train,pred_train)"
   ]
  },
  {
   "cell_type": "code",
   "execution_count": 662,
   "id": "f8dbc6f7",
   "metadata": {},
   "outputs": [
    {
     "data": {
      "text/plain": [
       "6.387180359412174"
      ]
     },
     "execution_count": 662,
     "metadata": {},
     "output_type": "execute_result"
    }
   ],
   "source": [
    "metrics.mean_absolute_error(Y_train,pred_train)"
   ]
  },
  {
   "cell_type": "code",
   "execution_count": 663,
   "id": "47d52ffa",
   "metadata": {},
   "outputs": [
    {
     "data": {
      "text/plain": [
       "33.27960114935964"
      ]
     },
     "execution_count": 663,
     "metadata": {},
     "output_type": "execute_result"
    }
   ],
   "source": [
    "metrics.mean_squared_error(Y_val,pred_val)"
   ]
  },
  {
   "cell_type": "code",
   "execution_count": 664,
   "id": "8faf3876",
   "metadata": {},
   "outputs": [
    {
     "data": {
      "text/plain": [
       "4.413194169177652"
      ]
     },
     "execution_count": 664,
     "metadata": {},
     "output_type": "execute_result"
    }
   ],
   "source": [
    "metrics.mean_absolute_error(Y_val,pred_val)"
   ]
  },
  {
   "cell_type": "code",
   "execution_count": 665,
   "id": "a4b0bc4d",
   "metadata": {},
   "outputs": [],
   "source": [
    "mse_val[13] = metrics.mean_squared_error(Y_val,pred_val)\n",
    "mae_val[13] = metrics.mean_absolute_error(Y_val,pred_val)"
   ]
  },
  {
   "cell_type": "code",
   "execution_count": 666,
   "id": "ea9d458f",
   "metadata": {},
   "outputs": [],
   "source": [
    "Cs = [0.0001, 0.001, 0.01, 0.1, 1, 10, 100, 1000]\n",
    "gammas = [0.0001, 0.001, 0.01, 0.1, 1, 10, 100, 1000]"
   ]
  },
  {
   "cell_type": "code",
   "execution_count": 667,
   "id": "348584fc",
   "metadata": {},
   "outputs": [],
   "source": [
    "best_mse = 100000\n",
    "best_C = None\n",
    "best_gamma = None\n",
    "model8 = None"
   ]
  },
  {
   "cell_type": "code",
   "execution_count": 668,
   "id": "4e8e37ae",
   "metadata": {},
   "outputs": [],
   "source": [
    "for C in Cs:\n",
    "    for gamma in gammas:\n",
    "        model = svm.SVR(kernel='rbf', gamma=gamma, C = C)\n",
    "        model.fit(X_train, Y_train)\n",
    "        mse = metrics.mean_squared_error(Y_val, model.predict(X_val))\n",
    "        if mse < best_mse:\n",
    "            best_mse = mse\n",
    "            best_C = C\n",
    "            best_gamma = gamma\n",
    "            model8 = model"
   ]
  },
  {
   "cell_type": "code",
   "execution_count": 669,
   "id": "81408b2d",
   "metadata": {},
   "outputs": [
    {
     "data": {
      "text/plain": [
       "1000"
      ]
     },
     "execution_count": 669,
     "metadata": {},
     "output_type": "execute_result"
    }
   ],
   "source": [
    "best_C"
   ]
  },
  {
   "cell_type": "code",
   "execution_count": 670,
   "id": "689a40ab",
   "metadata": {},
   "outputs": [
    {
     "data": {
      "text/plain": [
       "0.01"
      ]
     },
     "execution_count": 670,
     "metadata": {},
     "output_type": "execute_result"
    }
   ],
   "source": [
    "best_gamma"
   ]
  },
  {
   "cell_type": "code",
   "execution_count": 671,
   "id": "5766deb3",
   "metadata": {},
   "outputs": [],
   "source": [
    "pred_train = model8.predict(X_train)\n",
    "pred_val = model8.predict(X_val)"
   ]
  },
  {
   "cell_type": "code",
   "execution_count": 672,
   "id": "5b8b3578",
   "metadata": {},
   "outputs": [
    {
     "data": {
      "text/plain": [
       "63.72561582806899"
      ]
     },
     "execution_count": 672,
     "metadata": {},
     "output_type": "execute_result"
    }
   ],
   "source": [
    "metrics.mean_squared_error(Y_train,pred_train)"
   ]
  },
  {
   "cell_type": "code",
   "execution_count": 673,
   "id": "39446c6b",
   "metadata": {},
   "outputs": [
    {
     "data": {
      "text/plain": [
       "4.758119377267771"
      ]
     },
     "execution_count": 673,
     "metadata": {},
     "output_type": "execute_result"
    }
   ],
   "source": [
    "metrics.mean_absolute_error(Y_train,pred_train)"
   ]
  },
  {
   "cell_type": "code",
   "execution_count": 674,
   "id": "a1c03110",
   "metadata": {},
   "outputs": [
    {
     "data": {
      "text/plain": [
       "25.13096969656022"
      ]
     },
     "execution_count": 674,
     "metadata": {},
     "output_type": "execute_result"
    }
   ],
   "source": [
    "metrics.mean_squared_error(Y_val,pred_val)"
   ]
  },
  {
   "cell_type": "code",
   "execution_count": 675,
   "id": "1be94a85",
   "metadata": {},
   "outputs": [
    {
     "data": {
      "text/plain": [
       "3.7291020909660824"
      ]
     },
     "execution_count": 675,
     "metadata": {},
     "output_type": "execute_result"
    }
   ],
   "source": [
    "metrics.mean_absolute_error(Y_val,pred_val)"
   ]
  },
  {
   "cell_type": "code",
   "execution_count": 676,
   "id": "9dded599",
   "metadata": {},
   "outputs": [],
   "source": [
    "mse_val[14] = metrics.mean_squared_error(Y_val,pred_val)\n",
    "mae_val[14] = metrics.mean_absolute_error(Y_val,pred_val)"
   ]
  },
  {
   "cell_type": "code",
   "execution_count": 677,
   "id": "027df060",
   "metadata": {},
   "outputs": [
    {
     "data": {
      "text/plain": [
       "array([  30.36151035,   30.71159519,   34.69175748,   35.19376741,\n",
       "         29.60660821, 1521.92711192,   77.10776601,  160.39176484,\n",
       "         34.84816282,   55.76627725,   28.38510463,   35.62475538,\n",
       "         33.14712662,   33.27960115,   25.1309697 ])"
      ]
     },
     "execution_count": 677,
     "metadata": {},
     "output_type": "execute_result"
    }
   ],
   "source": [
    "mse_val"
   ]
  },
  {
   "cell_type": "code",
   "execution_count": 678,
   "id": "29122983",
   "metadata": {},
   "outputs": [
    {
     "data": {
      "text/plain": [
       "array([ 3.87578055,  3.95150365,  4.20041356,  4.27201536,  3.79169829,\n",
       "       36.69674334,  6.62920635, 10.66092745,  4.29033973,  5.88027365,\n",
       "        3.62084309,  4.12734837,  4.13630178,  4.41319417,  3.72910209])"
      ]
     },
     "execution_count": 678,
     "metadata": {},
     "output_type": "execute_result"
    }
   ],
   "source": [
    "mae_val"
   ]
  }
 ],
 "metadata": {
  "kernelspec": {
   "display_name": "Python 3",
   "language": "python",
   "name": "python3"
  },
  "language_info": {
   "codemirror_mode": {
    "name": "ipython",
    "version": 3
   },
   "file_extension": ".py",
   "mimetype": "text/x-python",
   "name": "python",
   "nbconvert_exporter": "python",
   "pygments_lexer": "ipython3",
   "version": "3.8.8"
  }
 },
 "nbformat": 4,
 "nbformat_minor": 5
}
