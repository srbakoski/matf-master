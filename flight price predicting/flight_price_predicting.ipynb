{
 "cells": [
  {
   "cell_type": "code",
   "execution_count": 1,
   "id": "505ce133",
   "metadata": {},
   "outputs": [],
   "source": [
    "import matplotlib.pyplot as plt\n",
    "import numpy as np\n",
    "import pandas as pd\n",
    "import tensorflow as tf\n",
    "import gpflow\n",
    "import gpflux\n",
    "import sklearn\n",
    "from sklearn import model_selection\n",
    "from sklearn import preprocessing\n",
    "from sklearn import metrics\n",
    "from sklearn import svm"
   ]
  },
  {
   "cell_type": "code",
   "execution_count": 2,
   "id": "fed16aac",
   "metadata": {},
   "outputs": [],
   "source": [
    "import warnings\n",
    "warnings.filterwarnings('ignore')"
   ]
  },
  {
   "cell_type": "code",
   "execution_count": 3,
   "id": "2a119336",
   "metadata": {},
   "outputs": [],
   "source": [
    "df = pd.read_csv(\"flight price predicting.csv\")\n",
    "tf.keras.backend.set_floatx(\"float64\")"
   ]
  },
  {
   "cell_type": "code",
   "execution_count": 4,
   "id": "0cb16a65",
   "metadata": {},
   "outputs": [],
   "source": [
    "stops = df['stops']\n",
    "stops[stops=='zero']=0\n",
    "stops[stops=='one']=1\n",
    "stops[stops=='two_or_more']=2"
   ]
  },
  {
   "cell_type": "code",
   "execution_count": 5,
   "id": "78cced04",
   "metadata": {},
   "outputs": [],
   "source": [
    "df = pd.get_dummies(df.drop(['stops'], axis=1))"
   ]
  },
  {
   "cell_type": "code",
   "execution_count": 6,
   "id": "a5eaef39",
   "metadata": {},
   "outputs": [],
   "source": [
    "df = df.drop(['airline_AirAsia','departure_time_Afternoon','class_Business'], axis=1)\n",
    "df['stops'] = stops"
   ]
  },
  {
   "cell_type": "code",
   "execution_count": 7,
   "id": "5512b04c",
   "metadata": {},
   "outputs": [],
   "source": [
    "X = np.array(df.drop(['Unnamed: 0','price'], axis=1))\n",
    "Y = np.array(df['price'])"
   ]
  },
  {
   "cell_type": "code",
   "execution_count": 8,
   "id": "00ae3e52",
   "metadata": {},
   "outputs": [],
   "source": [
    "X = np.reshape(X,(-1,14))\n",
    "Y = np.reshape(Y, (-1,1))"
   ]
  },
  {
   "cell_type": "code",
   "execution_count": 9,
   "id": "5c582dce",
   "metadata": {},
   "outputs": [],
   "source": [
    "X_train = X[0:7000]\n",
    "X_val = X[7000:8500]\n",
    "X_test = X[8500:10000]"
   ]
  },
  {
   "cell_type": "code",
   "execution_count": 10,
   "id": "482317c0",
   "metadata": {},
   "outputs": [],
   "source": [
    "Y_train = Y[0:7000]\n",
    "Y_val = Y[7000:8500]\n",
    "Y_test = Y[8500:10000]"
   ]
  },
  {
   "cell_type": "code",
   "execution_count": 11,
   "id": "35a7591f",
   "metadata": {},
   "outputs": [],
   "source": [
    "scaler = preprocessing.StandardScaler()\n",
    "scaler.fit(X_train)\n",
    "X_train = scaler.transform(X_train)\n",
    "X_val = scaler.transform(X_val)\n",
    "X_test = scaler.transform(X_test)"
   ]
  },
  {
   "cell_type": "code",
   "execution_count": 12,
   "id": "1cf43458",
   "metadata": {},
   "outputs": [],
   "source": [
    "n = len(Y_train)"
   ]
  },
  {
   "cell_type": "code",
   "execution_count": 132,
   "id": "a9e74139",
   "metadata": {},
   "outputs": [],
   "source": [
    "kernels = [gpflow.kernels.Cosine(), gpflow.kernels.Matern12(), gpflow.kernels.Matern32(), gpflow.kernels.Matern52(),\n",
    "           gpflow.kernels.RBF(), gpflow.kernels.RationalQuadratic(), \n",
    "           gpflow.kernels.Periodic(base_kernel=gpflow.kernels.RBF())]"
   ]
  },
  {
   "cell_type": "code",
   "execution_count": 133,
   "id": "b934adb1",
   "metadata": {},
   "outputs": [],
   "source": [
    "best_mse1 = 100000000\n",
    "best_model1 = None\n",
    "mae1 = None\n",
    "best_kernel = None"
   ]
  },
  {
   "cell_type": "code",
   "execution_count": 134,
   "id": "5bd4bcbe",
   "metadata": {},
   "outputs": [],
   "source": [
    "for k in kernels:\n",
    "    for i in range(0,3):\n",
    "        \n",
    "        kernel1 = k\n",
    "        inducing_points1 = gpflow.inducing_variables.InducingPoints(np.random.random((256, 14)))\n",
    "        layer1 = gpflux.layers.GPLayer(kernel1,inducing_points1,num_data=n,num_latent_gps=1,\n",
    "                                  mean_function=gpflow.mean_functions.Zero())\n",
    "        likelihood = gpflux.layers.LikelihoodLayer(gpflow.likelihoods.Gaussian())\n",
    "        gp = gpflux.models.DeepGP([layer1],likelihood)\n",
    "        model = gp.as_training_model()\n",
    "        model.compile(tf.optimizers.Adam(0.01))\n",
    "        model.fit({\"inputs\":X_train,\"targets\":Y_train},epochs=150,verbose=0)\n",
    "        model = gp.as_prediction_model()\n",
    "        out_val = model(X_val)\n",
    "        pred_val = out_val.f_mean.numpy().squeeze()\n",
    "        mse_val = metrics.mean_squared_error(Y_val,pred_val)\n",
    "        mae_val = metrics.mean_absolute_error(Y_val,pred_val)\n",
    "        if(mse_val < best_mse1):\n",
    "            best_mse1 = mse_val\n",
    "            best_model1 =model\n",
    "            mae1 = mae_val\n",
    "            best_kernel = k"
   ]
  },
  {
   "cell_type": "code",
   "execution_count": 135,
   "id": "0c14ba9a",
   "metadata": {},
   "outputs": [
    {
     "data": {
      "text/html": [
       "&lt;gpflow.kernels.periodic.Periodic object at 0x000001C36F334880&gt;\n",
       "<table>\n",
       "<thead>\n",
       "<tr><th>name                             </th><th>class    </th><th>transform  </th><th>prior  </th><th>trainable  </th><th>shape  </th><th>dtype  </th><th style=\"text-align: right;\">    value</th></tr>\n",
       "</thead>\n",
       "<tbody>\n",
       "<tr><td>Periodic.base_kernel.variance    </td><td>Parameter</td><td>Softplus   </td><td>       </td><td>True       </td><td>()     </td><td>float64</td><td style=\"text-align: right;\">814.403  </td></tr>\n",
       "<tr><td>Periodic.base_kernel.lengthscales</td><td>Parameter</td><td>Softplus   </td><td>       </td><td>True       </td><td>()     </td><td>float64</td><td style=\"text-align: right;\">  1.3211 </td></tr>\n",
       "<tr><td>Periodic.period                  </td><td>Parameter</td><td>Softplus   </td><td>       </td><td>True       </td><td>()     </td><td>float64</td><td style=\"text-align: right;\">  1.39259</td></tr>\n",
       "</tbody>\n",
       "</table>"
      ],
      "text/plain": [
       "<gpflow.kernels.periodic.Periodic object at 0x000001C36F334880>\n",
       "╒═══════════════════════════════════╤═══════════╤═════════════╤═════════╤═════════════╤═════════╤═════════╤═══════════╕\n",
       "│ name                              │ class     │ transform   │ prior   │ trainable   │ shape   │ dtype   │     value │\n",
       "╞═══════════════════════════════════╪═══════════╪═════════════╪═════════╪═════════════╪═════════╪═════════╪═══════════╡\n",
       "│ Periodic.base_kernel.variance     │ Parameter │ Softplus    │         │ True        │ ()      │ float64 │ 814.403   │\n",
       "├───────────────────────────────────┼───────────┼─────────────┼─────────┼─────────────┼─────────┼─────────┼───────────┤\n",
       "│ Periodic.base_kernel.lengthscales │ Parameter │ Softplus    │         │ True        │ ()      │ float64 │   1.3211  │\n",
       "├───────────────────────────────────┼───────────┼─────────────┼─────────┼─────────────┼─────────┼─────────┼───────────┤\n",
       "│ Periodic.period                   │ Parameter │ Softplus    │         │ True        │ ()      │ float64 │   1.39259 │\n",
       "╘═══════════════════════════════════╧═══════════╧═════════════╧═════════╧═════════════╧═════════╧═════════╧═══════════╛"
      ]
     },
     "execution_count": 135,
     "metadata": {},
     "output_type": "execute_result"
    }
   ],
   "source": [
    "best_kernel"
   ]
  },
  {
   "cell_type": "code",
   "execution_count": 136,
   "id": "f4a1d971",
   "metadata": {},
   "outputs": [
    {
     "data": {
      "text/plain": [
       "52490367.04621509"
      ]
     },
     "execution_count": 136,
     "metadata": {},
     "output_type": "execute_result"
    }
   ],
   "source": [
    "best_mse1"
   ]
  },
  {
   "cell_type": "code",
   "execution_count": 137,
   "id": "843137a9",
   "metadata": {},
   "outputs": [
    {
     "data": {
      "text/plain": [
       "4973.18546246302"
      ]
     },
     "execution_count": 137,
     "metadata": {},
     "output_type": "execute_result"
    }
   ],
   "source": [
    "mae1"
   ]
  },
  {
   "cell_type": "code",
   "execution_count": 154,
   "id": "bc30396b",
   "metadata": {},
   "outputs": [],
   "source": [
    "out_test = best_model1(X_test)\n",
    "pred_test = out_test.f_mean.numpy().squeeze()\n",
    "mse_test1 = metrics.mean_squared_error(Y_test,pred_test)\n",
    "mae_test1 = metrics.mean_absolute_error(Y_test,pred_test)"
   ]
  },
  {
   "cell_type": "code",
   "execution_count": 155,
   "id": "03a57204",
   "metadata": {},
   "outputs": [
    {
     "data": {
      "text/plain": [
       "56354818.09977449"
      ]
     },
     "execution_count": 155,
     "metadata": {},
     "output_type": "execute_result"
    }
   ],
   "source": [
    "mse_test1"
   ]
  },
  {
   "cell_type": "code",
   "execution_count": 156,
   "id": "1a31354f",
   "metadata": {},
   "outputs": [
    {
     "data": {
      "text/plain": [
       "5194.495738223249"
      ]
     },
     "execution_count": 156,
     "metadata": {},
     "output_type": "execute_result"
    }
   ],
   "source": [
    "mae_test1"
   ]
  },
  {
   "cell_type": "code",
   "execution_count": 13,
   "id": "9dc2c06c",
   "metadata": {},
   "outputs": [],
   "source": [
    "best_mse2 = 1000000000\n",
    "best_model2 = None\n",
    "mae2 = None"
   ]
  },
  {
   "cell_type": "code",
   "execution_count": 14,
   "id": "90a773c8",
   "metadata": {},
   "outputs": [],
   "source": [
    "for i in range(0,2):\n",
    "    kernel1 = gpflow.kernels.Matern32()+gpflow.kernels.Matern52()\n",
    "    inducing_points1 = gpflow.inducing_variables.InducingPoints(np.random.random((256, 14)))\n",
    "    layer1 = gpflux.layers.GPLayer(kernel1,inducing_points1,num_data=n,num_latent_gps=14)\n",
    "    kernel2 = gpflow.kernels.Matern32()+gpflow.kernels.Matern52()\n",
    "    inducing_points2 = gpflow.inducing_variables.InducingPoints(np.random.random((128, 14)))\n",
    "    layer2 = gpflux.layers.GPLayer(kernel2,inducing_points2,num_data =n,num_latent_gps=1,mean_function=gpflow.mean_functions.Zero())\n",
    "    likelihood = gpflux.layers.LikelihoodLayer(gpflow.likelihoods.Gaussian())\n",
    "    deep_gp = gpflux.models.DeepGP([layer1, layer2],likelihood)\n",
    "    model = deep_gp.as_training_model()\n",
    "    model.compile(tf.optimizers.Adam(0.01))\n",
    "    model.fit({\"inputs\":X_train,\"targets\":Y_train},epochs=150,verbose=0)\n",
    "    model = deep_gp.as_prediction_model()\n",
    "    out_val = model(X_val)\n",
    "    pred_val = out_val.f_mean.numpy().squeeze()\n",
    "    mse_val = metrics.mean_squared_error(Y_val,pred_val)\n",
    "    mae_val = metrics.mean_absolute_error(Y_val,pred_val)\n",
    "    if(mse_val < best_mse2):\n",
    "        best_mse2 = mse_val\n",
    "        best_model2 = model\n",
    "        mae2 = mae_val   "
   ]
  },
  {
   "cell_type": "code",
   "execution_count": 15,
   "id": "3d3866df",
   "metadata": {},
   "outputs": [
    {
     "data": {
      "text/plain": [
       "31177263.200669922"
      ]
     },
     "execution_count": 15,
     "metadata": {},
     "output_type": "execute_result"
    }
   ],
   "source": [
    "best_mse2"
   ]
  },
  {
   "cell_type": "code",
   "execution_count": 16,
   "id": "32f767ba",
   "metadata": {},
   "outputs": [
    {
     "data": {
      "text/plain": [
       "3356.8462461151917"
      ]
     },
     "execution_count": 16,
     "metadata": {},
     "output_type": "execute_result"
    }
   ],
   "source": [
    "mae2"
   ]
  },
  {
   "cell_type": "code",
   "execution_count": 17,
   "id": "4bf17a88",
   "metadata": {},
   "outputs": [],
   "source": [
    "out_test = best_model2(X_test)\n",
    "pred_test = out_test.f_mean.numpy().squeeze()\n",
    "mse_test2 = metrics.mean_squared_error(Y_test,pred_test)\n",
    "mae_test2 = metrics.mean_absolute_error(Y_test,pred_test)"
   ]
  },
  {
   "cell_type": "code",
   "execution_count": 18,
   "id": "b8bce2b6",
   "metadata": {},
   "outputs": [
    {
     "data": {
      "text/plain": [
       "35182097.30740546"
      ]
     },
     "execution_count": 18,
     "metadata": {},
     "output_type": "execute_result"
    }
   ],
   "source": [
    "mse_test2"
   ]
  },
  {
   "cell_type": "code",
   "execution_count": 19,
   "id": "94ab296d",
   "metadata": {},
   "outputs": [
    {
     "data": {
      "text/plain": [
       "3582.694364021823"
      ]
     },
     "execution_count": 19,
     "metadata": {},
     "output_type": "execute_result"
    }
   ],
   "source": [
    "mae_test2"
   ]
  },
  {
   "cell_type": "code",
   "execution_count": 20,
   "id": "23e6a91d",
   "metadata": {},
   "outputs": [],
   "source": [
    "best_mse3 = 1000000000\n",
    "best_model3 = None\n",
    "mae3 = None"
   ]
  },
  {
   "cell_type": "code",
   "execution_count": 21,
   "id": "1e687fd9",
   "metadata": {},
   "outputs": [],
   "source": [
    "for i in range(0,2):\n",
    "    kernel1 = gpflow.kernels.RBF()*gpflow.kernels.Matern52()\n",
    "    inducing_points1 = gpflow.inducing_variables.InducingPoints(np.random.random((256, 14)))\n",
    "    layer1 = gpflux.layers.GPLayer(kernel1,inducing_points1,num_data=n,num_latent_gps=14)\n",
    "    kernel2 = gpflow.kernels.RBF()*gpflow.kernels.Matern52()\n",
    "    inducing_points2 = gpflow.inducing_variables.InducingPoints(np.random.random((128, 14)))\n",
    "    layer2 = gpflux.layers.GPLayer(kernel2,inducing_points2,num_data =n,num_latent_gps=1,mean_function=gpflow.mean_functions.Zero())\n",
    "    likelihood = gpflux.layers.LikelihoodLayer(gpflow.likelihoods.Gaussian())\n",
    "    deep_gp = gpflux.models.DeepGP([layer1, layer2],likelihood)\n",
    "    model = deep_gp.as_training_model()\n",
    "    model.compile(tf.optimizers.Adam(0.01))\n",
    "    model.fit({\"inputs\":X_train,\"targets\":Y_train},epochs=150,verbose=0)\n",
    "    model = deep_gp.as_prediction_model()\n",
    "    out_val = model(X_val)\n",
    "    pred_val = out_val.f_mean.numpy().squeeze()\n",
    "    mse_val = metrics.mean_squared_error(Y_val,pred_val)\n",
    "    mae_val = metrics.mean_absolute_error(Y_val,pred_val)\n",
    "    if(mse_val < best_mse3):\n",
    "        best_mse3 = mse_val\n",
    "        best_model3 = model\n",
    "        mae3 = mae_val"
   ]
  },
  {
   "cell_type": "code",
   "execution_count": 22,
   "id": "d24c9d5d",
   "metadata": {},
   "outputs": [
    {
     "data": {
      "text/plain": [
       "29423876.358454034"
      ]
     },
     "execution_count": 22,
     "metadata": {},
     "output_type": "execute_result"
    }
   ],
   "source": [
    "best_mse3"
   ]
  },
  {
   "cell_type": "code",
   "execution_count": 23,
   "id": "633b59ee",
   "metadata": {},
   "outputs": [
    {
     "data": {
      "text/plain": [
       "3310.7740737339136"
      ]
     },
     "execution_count": 23,
     "metadata": {},
     "output_type": "execute_result"
    }
   ],
   "source": [
    "mae3"
   ]
  },
  {
   "cell_type": "code",
   "execution_count": 24,
   "id": "82c6787e",
   "metadata": {},
   "outputs": [],
   "source": [
    "out_test = best_model3(X_test)\n",
    "pred_test = out_test.f_mean.numpy().squeeze()\n",
    "mse_test3 = metrics.mean_squared_error(Y_test,pred_test)\n",
    "mae_test3 = metrics.mean_absolute_error(Y_test,pred_test)"
   ]
  },
  {
   "cell_type": "code",
   "execution_count": 25,
   "id": "c9c951fb",
   "metadata": {},
   "outputs": [
    {
     "data": {
      "text/plain": [
       "34691688.52204659"
      ]
     },
     "execution_count": 25,
     "metadata": {},
     "output_type": "execute_result"
    }
   ],
   "source": [
    "mse_test3"
   ]
  },
  {
   "cell_type": "code",
   "execution_count": 26,
   "id": "fb8c6454",
   "metadata": {},
   "outputs": [
    {
     "data": {
      "text/plain": [
       "3603.9753112740186"
      ]
     },
     "execution_count": 26,
     "metadata": {},
     "output_type": "execute_result"
    }
   ],
   "source": [
    "mae_test3"
   ]
  },
  {
   "cell_type": "code",
   "execution_count": 106,
   "id": "2eebbbb2",
   "metadata": {},
   "outputs": [],
   "source": [
    "from tensorflow.keras.models import Sequential\n",
    "from tensorflow.keras.layers import InputLayer, Dense\n",
    "from tensorflow.keras.losses import MeanSquaredError, MeanAbsoluteError\n",
    "from tensorflow.keras.optimizers import Adam"
   ]
  },
  {
   "cell_type": "code",
   "execution_count": 174,
   "id": "baafd357",
   "metadata": {},
   "outputs": [],
   "source": [
    "best_model4 = None\n",
    "best_mse4 = 100000000\n",
    "mae4 = None "
   ]
  },
  {
   "cell_type": "code",
   "execution_count": 175,
   "id": "d2fcf166",
   "metadata": {},
   "outputs": [
    {
     "name": "stdout",
     "output_type": "stream",
     "text": [
      "47/47 [==============================] - 0s 7ms/step - loss: 46078722.4441 - mean_absolute_error: 4862.7860\n",
      "47/47 [==============================] - 0s 2ms/step - loss: 43725770.5041 - mean_absolute_error: 4599.4627\n",
      "47/47 [==============================] - 0s 2ms/step - loss: 42364678.7137 - mean_absolute_error: 4431.1146\n"
     ]
    }
   ],
   "source": [
    "for i in range(0,3):\n",
    "    model = Sequential([InputLayer(14,),Dense(32, activation='relu'),Dense(16, activation='relu'), Dense(1)])\n",
    "    model.compile(optimizer=Adam(learning_rate=0.001), loss=MeanSquaredError(),\n",
    "              metrics = [MeanAbsoluteError()])\n",
    "    model.fit(X_train,Y_train,epochs=150, batch_size=128, validation_data=(X_val,Y_val), verbose=0)\n",
    "    mse_val, mae_val = model.evaluate(X_val,Y_val)\n",
    "    if(mse_val < best_mse4):\n",
    "        best_mse4 = mse_val\n",
    "        mae4 = mae_val\n",
    "        best_model4 = model"
   ]
  },
  {
   "cell_type": "code",
   "execution_count": 176,
   "id": "0109bc0c",
   "metadata": {},
   "outputs": [
    {
     "data": {
      "text/plain": [
       "42364678.7137116"
      ]
     },
     "execution_count": 176,
     "metadata": {},
     "output_type": "execute_result"
    }
   ],
   "source": [
    "best_mse4"
   ]
  },
  {
   "cell_type": "code",
   "execution_count": 177,
   "id": "98639d5e",
   "metadata": {},
   "outputs": [
    {
     "data": {
      "text/plain": [
       "4431.114609537754"
      ]
     },
     "execution_count": 177,
     "metadata": {},
     "output_type": "execute_result"
    }
   ],
   "source": [
    "mae4"
   ]
  },
  {
   "cell_type": "code",
   "execution_count": 178,
   "id": "9aead099",
   "metadata": {},
   "outputs": [
    {
     "name": "stdout",
     "output_type": "stream",
     "text": [
      "47/47 [==============================] - 0s 2ms/step\n",
      "47/47 [==============================] - 0s 2ms/step\n"
     ]
    }
   ],
   "source": [
    "mse_test4 = metrics.mean_squared_error(Y_test, best_model4.predict(X_test))\n",
    "mae_test4 = metrics.mean_absolute_error(Y_test, best_model4.predict(X_test))"
   ]
  },
  {
   "cell_type": "code",
   "execution_count": 179,
   "id": "6d645f94",
   "metadata": {},
   "outputs": [
    {
     "data": {
      "text/plain": [
       "46099064.6234641"
      ]
     },
     "execution_count": 179,
     "metadata": {},
     "output_type": "execute_result"
    }
   ],
   "source": [
    "mse_test4"
   ]
  },
  {
   "cell_type": "code",
   "execution_count": 180,
   "id": "63e1331e",
   "metadata": {},
   "outputs": [
    {
     "data": {
      "text/plain": [
       "4667.179386764309"
      ]
     },
     "execution_count": 180,
     "metadata": {},
     "output_type": "execute_result"
    }
   ],
   "source": [
    "mae_test4"
   ]
  },
  {
   "cell_type": "code",
   "execution_count": 111,
   "id": "d6400546",
   "metadata": {},
   "outputs": [],
   "source": [
    "model5 = sklearn.linear_model.LinearRegression()"
   ]
  },
  {
   "cell_type": "code",
   "execution_count": 112,
   "id": "f43d76b2",
   "metadata": {},
   "outputs": [
    {
     "data": {
      "text/plain": [
       "LinearRegression()"
      ]
     },
     "execution_count": 112,
     "metadata": {},
     "output_type": "execute_result"
    }
   ],
   "source": [
    "model5.fit(X_train, Y_train)"
   ]
  },
  {
   "cell_type": "code",
   "execution_count": 113,
   "id": "e3ab8a37",
   "metadata": {},
   "outputs": [],
   "source": [
    "pred_val = model5.predict(X_val)"
   ]
  },
  {
   "cell_type": "code",
   "execution_count": 114,
   "id": "7d6d180e",
   "metadata": {},
   "outputs": [],
   "source": [
    "mse5 = metrics.mean_squared_error(Y_val,pred_val)"
   ]
  },
  {
   "cell_type": "code",
   "execution_count": 115,
   "id": "e71d2216",
   "metadata": {},
   "outputs": [],
   "source": [
    "mae5 = metrics.mean_absolute_error(Y_val,pred_val)"
   ]
  },
  {
   "cell_type": "code",
   "execution_count": 116,
   "id": "fdcb3863",
   "metadata": {},
   "outputs": [
    {
     "data": {
      "text/plain": [
       "49683951.80362598"
      ]
     },
     "execution_count": 116,
     "metadata": {},
     "output_type": "execute_result"
    }
   ],
   "source": [
    "mse5"
   ]
  },
  {
   "cell_type": "code",
   "execution_count": 117,
   "id": "56e74eea",
   "metadata": {},
   "outputs": [
    {
     "data": {
      "text/plain": [
       "4557.8224521302855"
      ]
     },
     "execution_count": 117,
     "metadata": {},
     "output_type": "execute_result"
    }
   ],
   "source": [
    "mae5"
   ]
  },
  {
   "cell_type": "code",
   "execution_count": 160,
   "id": "086a30bf",
   "metadata": {},
   "outputs": [],
   "source": [
    "pred_test = model5.predict(X_test)\n",
    "mse_test5 = metrics.mean_squared_error(Y_test,pred_test)\n",
    "mae_test5 = metrics.mean_absolute_error(Y_test,pred_test)"
   ]
  },
  {
   "cell_type": "code",
   "execution_count": 161,
   "id": "546c59db",
   "metadata": {},
   "outputs": [
    {
     "data": {
      "text/plain": [
       "50396230.30277953"
      ]
     },
     "execution_count": 161,
     "metadata": {},
     "output_type": "execute_result"
    }
   ],
   "source": [
    "mse_test5"
   ]
  },
  {
   "cell_type": "code",
   "execution_count": 162,
   "id": "a1de97e7",
   "metadata": {},
   "outputs": [
    {
     "data": {
      "text/plain": [
       "4756.333378526396"
      ]
     },
     "execution_count": 162,
     "metadata": {},
     "output_type": "execute_result"
    }
   ],
   "source": [
    "mae_test5"
   ]
  },
  {
   "cell_type": "code",
   "execution_count": 145,
   "id": "9451e183",
   "metadata": {},
   "outputs": [],
   "source": [
    "Cs = [0.001, 0.01, 0.1, 1, 10, 100]\n",
    "gammas = [0.001, 0.01, 0.1, 1, 10, 100]"
   ]
  },
  {
   "cell_type": "code",
   "execution_count": 146,
   "id": "94fd6f87",
   "metadata": {},
   "outputs": [],
   "source": [
    "best_mse6 = 1000000000\n",
    "mae6 = None\n",
    "best_C = None\n",
    "best_gamma = None\n",
    "best_model6 = None"
   ]
  },
  {
   "cell_type": "code",
   "execution_count": 147,
   "id": "69fd67c9",
   "metadata": {},
   "outputs": [],
   "source": [
    "for C in Cs:\n",
    "    for gamma in gammas:\n",
    "        model = svm.SVR(kernel='rbf', gamma=gamma, C = C)\n",
    "        model.fit(X_train, Y_train)\n",
    "        mse_val = metrics.mean_squared_error(Y_val, model.predict(X_val))\n",
    "        mae_val = metrics.mean_absolute_error(Y_val, model.predict(X_val))\n",
    "        if (mse_val < best_mse6):\n",
    "            best_mse6 = mse_val\n",
    "            best_C = C\n",
    "            best_gamma = gamma\n",
    "            best_model6 = model\n",
    "            mae6 = mae_val"
   ]
  },
  {
   "cell_type": "code",
   "execution_count": 148,
   "id": "c7356c3e",
   "metadata": {},
   "outputs": [
    {
     "data": {
      "text/plain": [
       "100"
      ]
     },
     "execution_count": 148,
     "metadata": {},
     "output_type": "execute_result"
    }
   ],
   "source": [
    "best_C"
   ]
  },
  {
   "cell_type": "code",
   "execution_count": 149,
   "id": "b34ecbff",
   "metadata": {},
   "outputs": [
    {
     "data": {
      "text/plain": [
       "0.1"
      ]
     },
     "execution_count": 149,
     "metadata": {},
     "output_type": "execute_result"
    }
   ],
   "source": [
    "best_gamma"
   ]
  },
  {
   "cell_type": "code",
   "execution_count": 150,
   "id": "807eafe4",
   "metadata": {},
   "outputs": [
    {
     "data": {
      "text/plain": [
       "116932961.05863076"
      ]
     },
     "execution_count": 150,
     "metadata": {},
     "output_type": "execute_result"
    }
   ],
   "source": [
    "best_mse6"
   ]
  },
  {
   "cell_type": "code",
   "execution_count": 151,
   "id": "d59227a5",
   "metadata": {},
   "outputs": [
    {
     "data": {
      "text/plain": [
       "6305.838578537671"
      ]
     },
     "execution_count": 151,
     "metadata": {},
     "output_type": "execute_result"
    }
   ],
   "source": [
    "mae6"
   ]
  },
  {
   "cell_type": "code",
   "execution_count": 163,
   "id": "672f6f81",
   "metadata": {},
   "outputs": [
    {
     "data": {
      "text/plain": [
       "SVR(C=100, gamma=0.1)"
      ]
     },
     "execution_count": 163,
     "metadata": {},
     "output_type": "execute_result"
    }
   ],
   "source": [
    "model = svm.SVR(kernel='rbf', gamma=best_gamma, C = best_C)\n",
    "model.fit(X_train, Y_train)"
   ]
  },
  {
   "cell_type": "code",
   "execution_count": 164,
   "id": "13a68f36",
   "metadata": {},
   "outputs": [],
   "source": [
    "mse_test6 = metrics.mean_squared_error(Y_test, model.predict(X_test))\n",
    "mae_test6 = metrics.mean_absolute_error(Y_test, model.predict(X_test))"
   ]
  },
  {
   "cell_type": "code",
   "execution_count": 165,
   "id": "8a01411d",
   "metadata": {},
   "outputs": [
    {
     "data": {
      "text/plain": [
       "127395317.19212858"
      ]
     },
     "execution_count": 165,
     "metadata": {},
     "output_type": "execute_result"
    }
   ],
   "source": [
    "mse_test6"
   ]
  },
  {
   "cell_type": "code",
   "execution_count": 166,
   "id": "bd6d9cbc",
   "metadata": {},
   "outputs": [
    {
     "data": {
      "text/plain": [
       "6767.939052808309"
      ]
     },
     "execution_count": 166,
     "metadata": {},
     "output_type": "execute_result"
    }
   ],
   "source": [
    "mae_test6"
   ]
  },
  {
   "cell_type": "code",
   "execution_count": null,
   "id": "76d4ffa3",
   "metadata": {},
   "outputs": [],
   "source": []
  }
 ],
 "metadata": {
  "kernelspec": {
   "display_name": "Python 3",
   "language": "python",
   "name": "python3"
  },
  "language_info": {
   "codemirror_mode": {
    "name": "ipython",
    "version": 3
   },
   "file_extension": ".py",
   "mimetype": "text/x-python",
   "name": "python",
   "nbconvert_exporter": "python",
   "pygments_lexer": "ipython3",
   "version": "3.8.8"
  }
 },
 "nbformat": 4,
 "nbformat_minor": 5
}
